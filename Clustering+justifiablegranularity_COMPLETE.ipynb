{
 "cells": [
  {
   "cell_type": "markdown",
   "id": "2caa1f00",
   "metadata": {
    "id": "2caa1f00"
   },
   "source": [
    "# Importing Libraries"
   ]
  },
  {
   "cell_type": "code",
   "execution_count": 1,
   "id": "36751954",
   "metadata": {
    "id": "36751954"
   },
   "outputs": [],
   "source": [
    "import os\n",
    "import pandas as pd\n",
    "import numpy as np\n",
    "import gc"
   ]
  },
  {
   "cell_type": "markdown",
   "id": "zQCuH_8Qx_FK",
   "metadata": {
    "id": "zQCuH_8Qx_FK"
   },
   "source": [
    "# Connection to drive"
   ]
  },
  {
   "cell_type": "code",
   "execution_count": 2,
   "id": "8e541e17",
   "metadata": {
    "colab": {
     "base_uri": "https://localhost:8080/"
    },
    "executionInfo": {
     "elapsed": 7,
     "status": "ok",
     "timestamp": 1727684224260,
     "user": {
      "displayName": "DAMIANA IOVARO",
      "userId": "12500258692918933283"
     },
     "user_tz": -120
    },
    "id": "8e541e17",
    "outputId": "ee9a8e89-2a07-4d2c-a784-9437f929191d"
   },
   "outputs": [
    {
     "name": "stdout",
     "output_type": "stream",
     "text": [
      "Not running on Google Colab. \n"
     ]
    }
   ],
   "source": [
    "try:\n",
    "    from google.colab import drive\n",
    "    IN_COLAB = True\n",
    "    print(\"Running on Google Colab. \")\n",
    "except:\n",
    "    IN_COLAB = False\n",
    "    print(\"Not running on Google Colab. \")"
   ]
  },
  {
   "cell_type": "code",
   "execution_count": 3,
   "id": "YqDnszP3yBxG",
   "metadata": {
    "colab": {
     "base_uri": "https://localhost:8080/"
    },
    "executionInfo": {
     "elapsed": 24352,
     "status": "ok",
     "timestamp": 1727684248607,
     "user": {
      "displayName": "DAMIANA IOVARO",
      "userId": "12500258692918933283"
     },
     "user_tz": -120
    },
    "id": "YqDnszP3yBxG",
    "outputId": "d6dadbf6-66a4-4a8c-f156-1e4675382495"
   },
   "outputs": [],
   "source": [
    "if IN_COLAB:\n",
    "    from google.colab import drive\n",
    "    drive.mount('/content/gdrive')"
   ]
  },
  {
   "cell_type": "code",
   "execution_count": 4,
   "id": "vKxzLLMyXlXw",
   "metadata": {
    "id": "vKxzLLMyXlXw"
   },
   "outputs": [],
   "source": [
    "if IN_COLAB:\n",
    "    os.chdir('/content/gdrive/MyDrive/Tesi/dataset')\n",
    "else:\n",
    "    os.chdir('./dataset')"
   ]
  },
  {
   "cell_type": "markdown",
   "id": "0f55febe",
   "metadata": {
    "id": "0f55febe"
   },
   "source": [
    "# Downloading, Reading and Merging Data"
   ]
  },
  {
   "cell_type": "code",
   "execution_count": 5,
   "id": "bf6ace32",
   "metadata": {},
   "outputs": [],
   "source": [
    "def move_directories(orig_path, dest_path):\n",
    "    # Check if the destination folder exists, otherwise create it\n",
    "    if not os.path.exists(dest_path):\n",
    "        os.makedirs(dest_path)\n",
    "    \n",
    "    # Iter over all files and folders in the source directory\n",
    "    for item in os.listdir(orig_path):\n",
    "        orig_item_path = os.path.join(orig_path, item)\n",
    "        \n",
    "        # Check if it is a folder\n",
    "        if os.path.isdir(orig_item_path):\n",
    "            # Defines the destination path for the folder\n",
    "            dest_item_path = os.path.join(dest_path, item)\n",
    "            \n",
    "            # Move the folder by renaming it\n",
    "            os.rename(orig_item_path, dest_item_path)\n",
    "            print(f\"Moved directory: {orig_item_path} -> {dest_item_path}\")"
   ]
  },
  {
   "cell_type": "code",
   "execution_count": 6,
   "id": "7f185a12",
   "metadata": {},
   "outputs": [
    {
     "name": "stdout",
     "output_type": "stream",
     "text": [
      "Non-empty subdirectories: ['2021', '2020', '2022']\n",
      "Skip downloading.\n"
     ]
    },
    {
     "name": "stderr",
     "output_type": "stream",
     "text": [
      "/home/ubdeskiovaro/anaconda3/envs/thesis/lib/python3.13/site-packages/tqdm/auto.py:21: TqdmWarning: IProgress not found. Please update jupyter and ipywidgets. See https://ipywidgets.readthedocs.io/en/stable/user_install.html\n",
      "  from .autonotebook import tqdm as notebook_tqdm\n"
     ]
    }
   ],
   "source": [
    "import kagglehub\n",
    "\n",
    "# Check if some subdirectories are not empty\n",
    "path_to_check = \"./LUFlow/\"\n",
    "subdirs = [d for d in os.listdir(path_to_check) if os.path.isdir(os.path.join(path_to_check, d))]\n",
    "non_empty_subdirs = [d for d in subdirs if os.listdir(os.path.join(path_to_check, d))]\n",
    "\n",
    "dest_path = './LUFlow'\n",
    "\n",
    "if non_empty_subdirs:\n",
    "    print(\"Non-empty subdirectories:\", non_empty_subdirs)\n",
    "    print(\"Skip downloading.\")\n",
    "else:\n",
    "    print(\"All subdirectories are empty.\")\n",
    "    print(\"Download dataset.\")\n",
    "\n",
    "    # Download latest version\n",
    "    path = kagglehub.dataset_download(\"mryanm/luflow-network-intrusion-detection-data-set\")\n",
    "\n",
    "    print(\"Path to dataset files:\", path)\n",
    "\n",
    "    move_directories(path, dest_path)"
   ]
  },
  {
   "cell_type": "code",
   "execution_count": 7,
   "id": "b6def2a9",
   "metadata": {},
   "outputs": [
    {
     "name": "stdout",
     "output_type": "stream",
     "text": [
      "Encoded dataset is in the directory.\n"
     ]
    }
   ],
   "source": [
    "encoded_dataset = './LUFlow/encoded_dataset.csv'\n",
    "\n",
    "if os.path.isfile(encoded_dataset):\n",
    "    print(\"Encoded dataset is in the directory.\")\n",
    "    ENCODED = True\n",
    "else:\n",
    "    print(\"Encoded dataset is not in the directory.\")\n",
    "    ENCODED = False"
   ]
  },
  {
   "cell_type": "code",
   "execution_count": 8,
   "id": "2dd63090",
   "metadata": {
    "id": "2dd63090"
   },
   "outputs": [],
   "source": [
    "if not ENCODED:\n",
    "\n",
    "    df_list = []\n",
    "    i = 0\n",
    "\n",
    "    selected_columns = ['bytes_in', 'bytes_out', 'num_pkts_out', 'num_pkts_in', 'proto', 'time_start', 'label']\n",
    "    dtype_dict = {'bytes_in': np.int32, 'bytes_out': np.int32, 'num_pkts_out': np.int32, \n",
    "                  'num_pkts_in': np.int32, 'proto': np.int32, 'time_start': np.int64, 'label': str}\n",
    "\n",
    "    for root, dirs, files in os.walk(dest_path):\n",
    "        for file in files:\n",
    "            # checks if 'file' does not exist in the directory\n",
    "            # checks if 'csv' is in the file name\n",
    "            # checks if a particular string is in the file name\n",
    "            if not os.path.isfile(file) and 'csv' in file:\n",
    "                chunk_iter = pd.read_csv(os.path.join(root, file), chunksize=10000, usecols=selected_columns, dtype=dtype_dict)\n",
    "                for chunk in chunk_iter:\n",
    "                    df_list.append(chunk)\n",
    "                \n",
    "                del chunk_iter\n",
    "                gc.collect()\n",
    "                i += 1\n",
    "\n",
    "    df = pd.concat(df_list, ignore_index=True)\n",
    "\n",
    "    del df_list\n",
    "    gc.collect()"
   ]
  },
  {
   "cell_type": "code",
   "execution_count": 9,
   "id": "4aaaad63",
   "metadata": {},
   "outputs": [
    {
     "name": "stdout",
     "output_type": "stream",
     "text": [
      "Sorted dataset is in the directory.\n"
     ]
    }
   ],
   "source": [
    "sorted_dataset = './LUFlow/sorted_encoded_dataset.csv'\n",
    "\n",
    "if os.path.isfile(sorted_dataset) and ENCODED:\n",
    "    print(\"Sorted dataset is in the directory.\")\n",
    "elif ENCODED:\n",
    "    print(\"Sorting dataset.\")\n",
    "\n",
    "    dataset_encoded = pd.read_csv(encoded_dataset)\n",
    "    dataset_encoded_sorted = dataset_encoded.sort_values(by=['time_start'])\n",
    "\n",
    "    dataset_encoded_sorted.to_csv(sorted_dataset, index=False)"
   ]
  },
  {
   "cell_type": "code",
   "execution_count": 10,
   "id": "5f82214a",
   "metadata": {},
   "outputs": [],
   "source": [
    "QUART = True\n",
    "\n",
    "subset = 300\n",
    "\n",
    "if ENCODED and QUART:\n",
    "    import pandas as pd\n",
    "\n",
    "    # Count number of lines in the file\n",
    "    with open(sorted_dataset) as f:\n",
    "        total_rows = sum(1 for _ in f) - 1  # exclude header\n",
    "\n",
    "    # Compute the fraction\n",
    "    n_quarter_rows = total_rows // subset\n",
    "\n",
    "    # Load only first quarter of the dataset\n",
    "    df = pd.read_csv(sorted_dataset, nrows=n_quarter_rows)"
   ]
  },
  {
   "cell_type": "markdown",
   "id": "81d202a8",
   "metadata": {
    "id": "81d202a8"
   },
   "source": [
    "# Exploratory Data Analysis"
   ]
  },
  {
   "cell_type": "code",
   "execution_count": 11,
   "id": "1424708b",
   "metadata": {
    "id": "1424708b"
   },
   "outputs": [],
   "source": [
    "import matplotlib.pyplot as plt\n",
    "\n",
    "if not ENCODED:\n",
    "    # Count the occurrences of each label\n",
    "    label_counts = df['label'].value_counts()\n",
    "\n",
    "    plt.figure(figsize=(8, 8))\n",
    "    plt.pie(label_counts, labels=label_counts.index, autopct=lambda p: '{:.0f}\\n({:.1f}%)'.format(p * sum(label_counts) / 100, p))\n",
    "\n",
    "    # Show the plot\n",
    "    plt.title('Distribution of Labels')\n",
    "    plt.show()"
   ]
  },
  {
   "cell_type": "markdown",
   "id": "e6118ed4",
   "metadata": {
    "id": "e6118ed4"
   },
   "source": [
    "# Data Preprocessing"
   ]
  },
  {
   "cell_type": "code",
   "execution_count": 12,
   "id": "b9a8cc83",
   "metadata": {},
   "outputs": [
    {
     "name": "stdout",
     "output_type": "stream",
     "text": [
      "bytes_in        0\n",
      "bytes_out       0\n",
      "num_pkts_out    0\n",
      "num_pkts_in     0\n",
      "proto           0\n",
      "time_start      0\n",
      "label           0\n",
      "dtype: int64\n"
     ]
    }
   ],
   "source": [
    "df.dropna(axis=1, inplace = True)\n",
    "\n",
    "missing_values = df.isnull().sum()\n",
    "print(missing_values)"
   ]
  },
  {
   "cell_type": "code",
   "execution_count": 13,
   "id": "d04422fa",
   "metadata": {
    "id": "d04422fa"
   },
   "outputs": [],
   "source": [
    "if not ENCODED:\n",
    "    df = df[df['label'].isin(['benign', 'malicious'])].copy()\n",
    "\n",
    "    df = df.reset_index(drop=True)"
   ]
  },
  {
   "cell_type": "code",
   "execution_count": 14,
   "id": "78134a11",
   "metadata": {
    "id": "78134a11"
   },
   "outputs": [],
   "source": [
    "from sklearn.preprocessing import LabelEncoder\n",
    "\n",
    "if not ENCODED:\n",
    "    label_encoder = LabelEncoder()\n",
    "\n",
    "    # Fit and transform the label column\n",
    "    df['label'] = label_encoder.fit_transform(df['label'])"
   ]
  },
  {
   "cell_type": "code",
   "execution_count": 15,
   "id": "02357a06",
   "metadata": {},
   "outputs": [],
   "source": [
    "if not ENCODED:\n",
    "    df.to_csv(encoded_dataset, index=False)"
   ]
  },
  {
   "cell_type": "code",
   "execution_count": 16,
   "id": "e945052c",
   "metadata": {
    "id": "e945052c"
   },
   "outputs": [
    {
     "data": {
      "image/png": "[encoded data removed]",
      "text/plain": [
       "<Figure size 800x800 with 1 Axes>"
      ]
     },
     "metadata": {},
     "output_type": "display_data"
    }
   ],
   "source": [
    "# Count the occurrences of each label\n",
    "label_counts = df['label'].value_counts()\n",
    "\n",
    "plt.figure(figsize=(8, 8))\n",
    "plt.pie(label_counts, labels=label_counts.index, autopct=lambda p: '{:.0f}\\n({:.1f}%)'.format(p * sum(label_counts) / 100, p))\n",
    "\n",
    "# Show the plot\n",
    "plt.title('Distribution of Labels')\n",
    "plt.show()"
   ]
  },
  {
   "cell_type": "code",
   "execution_count": 17,
   "id": "_tt-YtWchGYq",
   "metadata": {
    "id": "_tt-YtWchGYq"
   },
   "outputs": [
    {
     "data": {
      "text/plain": [
       "Index(['bytes_in', 'bytes_out', 'num_pkts_out', 'num_pkts_in', 'proto',\n",
       "       'time_start', 'label'],\n",
       "      dtype='object')"
      ]
     },
     "execution_count": 17,
     "metadata": {},
     "output_type": "execute_result"
    }
   ],
   "source": [
    "df.columns"
   ]
  },
  {
   "cell_type": "markdown",
   "id": "k90MxbIk_G_J",
   "metadata": {
    "id": "k90MxbIk_G_J"
   },
   "source": [
    "## Construction of Interval Information Granules\n",
    "\n",
    "### Selecting index using time windows"
   ]
  },
  {
   "cell_type": "code",
   "execution_count": 18,
   "id": "c9cf40cf",
   "metadata": {},
   "outputs": [],
   "source": [
    "perc = 0.8\n",
    "\n",
    "rows_perc = int(len(df)*perc)\n",
    "\n",
    "df_test = df.iloc[rows_perc:]\n",
    "df_train = df.iloc[:rows_perc]"
   ]
  },
  {
   "cell_type": "code",
   "execution_count": 19,
   "id": "078b4c18",
   "metadata": {},
   "outputs": [],
   "source": [
    "if os.path.exists('./LUFlow/GranulatedData'):\n",
    "    GRANULATED = True\n",
    "else:\n",
    "    GRANULATED = False\n",
    "    os.makedirs('./LUFlow/GranulatedData')"
   ]
  },
  {
   "cell_type": "code",
   "execution_count": 20,
   "id": "vyXIigQju030",
   "metadata": {
    "id": "vyXIigQju030"
   },
   "outputs": [
    {
     "name": "stderr",
     "output_type": "stream",
     "text": [
      "100%|██████████| 6/6 [00:08<00:00,  1.42s/it]\n"
     ]
    }
   ],
   "source": [
    "from tqdm import tqdm\n",
    "\n",
    "time_slices = [16, 128, 256, 1024, 2048, 3016]\n",
    "\n",
    "if not GRANULATED:\n",
    "  matching_indices_slices = {}\n",
    "\n",
    "  time_start_values = df['time_start'].values\n",
    "  n = time_start_values\n",
    "\n",
    "  for ts in tqdm(time_slices):\n",
    "    # maximum time limit of the granule\n",
    "    limit = time_start_values[0] + ts\n",
    "\n",
    "    # number of groups for time_slice\n",
    "    num_group = 0\n",
    "    group_dict = {num_group:[0]}\n",
    "\n",
    "    for i in range(1, len(n)):\n",
    "        # if the value of time_start is greater than limit then limit is updated and\n",
    "        # it is initilized a new group otherwise the index of the row is added to group_dict\n",
    "        if time_start_values[i] >= limit:\n",
    "          limit = time_start_values[i] + ts\n",
    "          num_group += 1\n",
    "\n",
    "          group_dict[num_group] = [i]\n",
    "        else:\n",
    "          group_dict[num_group].append(i)\n",
    "    \n",
    "    matching_indices_slices[ts] = group_dict\n",
    "    del group_dict\n",
    "    gc.collect()"
   ]
  },
  {
   "cell_type": "markdown",
   "id": "zZMBBfdMA4NV",
   "metadata": {
    "id": "zZMBBfdMA4NV"
   },
   "source": [
    "### Drop Label column"
   ]
  },
  {
   "cell_type": "code",
   "execution_count": 21,
   "id": "d96cee97",
   "metadata": {
    "id": "d96cee97"
   },
   "outputs": [
    {
     "data": {
      "text/plain": [
       "0"
      ]
     },
     "execution_count": 21,
     "metadata": {},
     "output_type": "execute_result"
    }
   ],
   "source": [
    "# Separate features (X) and target variable (y)\n",
    "X_train = df.loc[:, df.columns != 'label']\n",
    "y_train = df['label']\n",
    "\n",
    "del df\n",
    "gc.collect()"
   ]
  },
  {
   "cell_type": "code",
   "execution_count": 22,
   "id": "0ae98571",
   "metadata": {},
   "outputs": [
    {
     "data": {
      "text/plain": [
       "0"
      ]
     },
     "execution_count": 22,
     "metadata": {},
     "output_type": "execute_result"
    }
   ],
   "source": [
    "# Separate features (X) and target variable (y)\n",
    "X_test = df_test.loc[:, df_test.columns != 'label']\n",
    "y_test = df_test['label']\n",
    "\n",
    "\n",
    "del df_test\n",
    "gc.collect()"
   ]
  },
  {
   "cell_type": "code",
   "execution_count": 23,
   "id": "911c3e12",
   "metadata": {
    "id": "911c3e12"
   },
   "outputs": [
    {
     "data": {
      "text/html": [
       "<div>\n",
       "<style scoped>\n",
       "    .dataframe tbody tr th:only-of-type {\n",
       "        vertical-align: middle;\n",
       "    }\n",
       "\n",
       "    .dataframe tbody tr th {\n",
       "        vertical-align: top;\n",
       "    }\n",
       "\n",
       "    .dataframe thead th {\n",
       "        text-align: right;\n",
       "    }\n",
       "</style>\n",
       "<table border=\"1\" class=\"dataframe\">\n",
       "  <thead>\n",
       "    <tr style=\"text-align: right;\">\n",
       "      <th></th>\n",
       "      <th>bytes_in</th>\n",
       "      <th>bytes_out</th>\n",
       "      <th>num_pkts_out</th>\n",
       "      <th>num_pkts_in</th>\n",
       "      <th>proto</th>\n",
       "      <th>time_start</th>\n",
       "    </tr>\n",
       "  </thead>\n",
       "  <tbody>\n",
       "    <tr>\n",
       "      <th>0</th>\n",
       "      <td>0</td>\n",
       "      <td>7430</td>\n",
       "      <td>6</td>\n",
       "      <td>0</td>\n",
       "      <td>6</td>\n",
       "      <td>15925366400</td>\n",
       "    </tr>\n",
       "    <tr>\n",
       "      <th>1</th>\n",
       "      <td>0</td>\n",
       "      <td>10136</td>\n",
       "      <td>7</td>\n",
       "      <td>0</td>\n",
       "      <td>6</td>\n",
       "      <td>15925373126</td>\n",
       "    </tr>\n",
       "    <tr>\n",
       "      <th>2</th>\n",
       "      <td>0</td>\n",
       "      <td>2985</td>\n",
       "      <td>3</td>\n",
       "      <td>2</td>\n",
       "      <td>6</td>\n",
       "      <td>15925397203</td>\n",
       "    </tr>\n",
       "    <tr>\n",
       "      <th>3</th>\n",
       "      <td>0</td>\n",
       "      <td>5792</td>\n",
       "      <td>4</td>\n",
       "      <td>2</td>\n",
       "      <td>6</td>\n",
       "      <td>15925398899</td>\n",
       "    </tr>\n",
       "    <tr>\n",
       "      <th>4</th>\n",
       "      <td>0</td>\n",
       "      <td>3548</td>\n",
       "      <td>3</td>\n",
       "      <td>0</td>\n",
       "      <td>6</td>\n",
       "      <td>15925416267</td>\n",
       "    </tr>\n",
       "    <tr>\n",
       "      <th>...</th>\n",
       "      <td>...</td>\n",
       "      <td>...</td>\n",
       "      <td>...</td>\n",
       "      <td>...</td>\n",
       "      <td>...</td>\n",
       "      <td>...</td>\n",
       "    </tr>\n",
       "    <tr>\n",
       "      <th>602730</th>\n",
       "      <td>0</td>\n",
       "      <td>429</td>\n",
       "      <td>1</td>\n",
       "      <td>0</td>\n",
       "      <td>6</td>\n",
       "      <td>15978109232279</td>\n",
       "    </tr>\n",
       "    <tr>\n",
       "      <th>602731</th>\n",
       "      <td>0</td>\n",
       "      <td>421</td>\n",
       "      <td>1</td>\n",
       "      <td>0</td>\n",
       "      <td>6</td>\n",
       "      <td>15978109232279</td>\n",
       "    </tr>\n",
       "    <tr>\n",
       "      <th>602732</th>\n",
       "      <td>0</td>\n",
       "      <td>13032</td>\n",
       "      <td>9</td>\n",
       "      <td>0</td>\n",
       "      <td>6</td>\n",
       "      <td>15978109252171</td>\n",
       "    </tr>\n",
       "    <tr>\n",
       "      <th>602733</th>\n",
       "      <td>0</td>\n",
       "      <td>1085</td>\n",
       "      <td>1</td>\n",
       "      <td>0</td>\n",
       "      <td>6</td>\n",
       "      <td>15978109269498</td>\n",
       "    </tr>\n",
       "    <tr>\n",
       "      <th>602734</th>\n",
       "      <td>0</td>\n",
       "      <td>8098</td>\n",
       "      <td>6</td>\n",
       "      <td>0</td>\n",
       "      <td>6</td>\n",
       "      <td>15978109282373</td>\n",
       "    </tr>\n",
       "  </tbody>\n",
       "</table>\n",
       "<p>602735 rows × 6 columns</p>\n",
       "</div>"
      ],
      "text/plain": [
       "        bytes_in  bytes_out  num_pkts_out  num_pkts_in  proto      time_start\n",
       "0              0       7430             6            0      6     15925366400\n",
       "1              0      10136             7            0      6     15925373126\n",
       "2              0       2985             3            2      6     15925397203\n",
       "3              0       5792             4            2      6     15925398899\n",
       "4              0       3548             3            0      6     15925416267\n",
       "...          ...        ...           ...          ...    ...             ...\n",
       "602730         0        429             1            0      6  15978109232279\n",
       "602731         0        421             1            0      6  15978109232279\n",
       "602732         0      13032             9            0      6  15978109252171\n",
       "602733         0       1085             1            0      6  15978109269498\n",
       "602734         0       8098             6            0      6  15978109282373\n",
       "\n",
       "[602735 rows x 6 columns]"
      ]
     },
     "execution_count": 23,
     "metadata": {},
     "output_type": "execute_result"
    }
   ],
   "source": [
    "X_train"
   ]
  },
  {
   "cell_type": "code",
   "execution_count": 24,
   "id": "1de93880",
   "metadata": {
    "id": "1de93880"
   },
   "outputs": [
    {
     "data": {
      "text/plain": [
       "0         0\n",
       "1         0\n",
       "2         0\n",
       "3         0\n",
       "4         0\n",
       "         ..\n",
       "602730    0\n",
       "602731    0\n",
       "602732    0\n",
       "602733    0\n",
       "602734    0\n",
       "Name: label, Length: 602735, dtype: int64"
      ]
     },
     "execution_count": 24,
     "metadata": {},
     "output_type": "execute_result"
    }
   ],
   "source": [
    "y_train"
   ]
  },
  {
   "cell_type": "markdown",
   "id": "t8o0K9k6npXH",
   "metadata": {
    "id": "t8o0K9k6npXH"
   },
   "source": [
    "### Creating interval information granules\n",
    "\n",
    "with justifiable granularity principle\n"
   ]
  },
  {
   "cell_type": "markdown",
   "id": "cbc1eca3",
   "metadata": {},
   "source": [
    "implementing both 'a' and 'b' to define the frames to include in the granule"
   ]
  },
  {
   "cell_type": "code",
   "execution_count": 25,
   "id": "4d7fda03",
   "metadata": {},
   "outputs": [
    {
     "name": "stderr",
     "output_type": "stream",
     "text": [
      "100%|██████████| 577991/577991 [10:58<00:00, 877.80it/s]  \n",
      "100%|██████████| 545846/545846 [11:46<00:00, 772.22it/s] \n",
      "100%|██████████| 535641/535641 [11:48<00:00, 755.90it/s] \n",
      "100%|██████████| 510545/510545 [12:21<00:00, 688.69it/s] \n",
      "100%|██████████| 488826/488826 [12:31<00:00, 650.41it/s]  \n",
      "100%|██████████| 472192/472192 [12:44<00:00, 617.27it/s] \n"
     ]
    }
   ],
   "source": [
    "import math\n",
    "\n",
    "\n",
    "columns = ['bytes_in', 'bytes_out', 'num_pkts_out', 'num_pkts_in', 'proto', 'time_start', 'label']\n",
    "\n",
    "\n",
    "if not GRANULATED:\n",
    "  alpha = 2.0\n",
    "  l = 10\n",
    "\n",
    "  for time_slice in time_slices:\n",
    "    X_train_granule = {}\n",
    "    y_train_granule = {}\n",
    "    \n",
    "    df = pd.DataFrame(columns=columns)\n",
    "    df.to_csv(f'./LUFlow/GranulatedData/justifiable_granules_{time_slice}.csv', index=False)\n",
    "\n",
    "    for group in tqdm(matching_indices_slices[time_slice]):\n",
    "\n",
    "      # obtains index for previous defined groups\n",
    "      group_indeces = matching_indices_slices[time_slice][group]\n",
    "\n",
    "      group_data = X_train.iloc[group_indeces]\n",
    "\n",
    "      N = len(group_data)\n",
    "\n",
    "      # if the slice has only one element, the granule is the element itself\n",
    "      if N == 1:\n",
    "        X_train_granule[group] = group_data\n",
    "        y_train_granule[group] = y_train.iloc[group_data.index]\n",
    "\n",
    "        df_gran = pd.concat([X_train_granule[group], y_train_granule[group]], axis=1)\n",
    "        df_gran.to_csv(f'./LUFlow/GranulatedData/justifiable_granules_{time_slice}.csv', mode='a', index=False, header=False)\n",
    "\n",
    "        continue\n",
    "      \n",
    "\n",
    "      stats = group_data['time_start'].agg(['min', 'max', 'mean'])\n",
    "      y_min, y_max, m = stats['min'], stats['max'], stats['mean']\n",
    "\n",
    "      y_max_rel = y_max - y_min\n",
    "\n",
    "      m_rel = m - y_min\n",
    "\n",
    "      delta_y = (y_max_rel - m_rel)/l\n",
    "\n",
    "      V_b_opt, V_a_opt = float('-inf'), float('-inf')\n",
    "      a_opt, b_opt = None, None\n",
    "\n",
    "      for h in range(0, l):\n",
    "        b_rel = m_rel+h*delta_y\n",
    "        a_rel = m_rel-h*delta_y\n",
    "\n",
    "        b = y_min + b_rel\n",
    "        sp_b = math.exp(-alpha*abs(m_rel-b_rel))\n",
    "\n",
    "        a = y_min + a_rel\n",
    "        sp_a = math.exp(-alpha*abs(a_rel-m_rel))\n",
    "\n",
    "        cov_b = ((group_data['time_start'] > m) & (group_data['time_start'] <= b)).sum() / N\n",
    "        cov_a = ((group_data['time_start'] > a) & (group_data['time_start'] <= m)).sum() / N\n",
    "\n",
    "        V_b = cov_b*sp_b\n",
    "        V_a = cov_a*sp_a\n",
    "\n",
    "        if V_a > V_a_opt:\n",
    "          a_opt, V_a_opt = a, V_a\n",
    "\n",
    "        if V_b > V_b_opt:\n",
    "          b_opt, V_b_opt = b, V_b\n",
    "\n",
    "      condition = (group_data['time_start'] > a_opt) & (group_data['time_start'] <= b_opt)\n",
    "      filtered_granule = group_data[condition]\n",
    "\n",
    "      # Make sure the granule is not empty\n",
    "      if filtered_granule.empty:\n",
    "        continue  # Skip this group if no data fits the condition\n",
    "\n",
    "      # X_train_granule[group] = filtered_granule\n",
    "\n",
    "      # Extract the selected rows\n",
    "      selected_rows = y_train.iloc[filtered_granule.index]\n",
    "\n",
    "      # # Find the most frequent value (mode)\n",
    "      most_frequent_value = selected_rows.mode().iloc[0]\n",
    "\n",
    "      # Assign the modal value to all selected rows\n",
    "      # y_train.iloc[filtered_granule.index] = most_frequent_value\n",
    "      # y_train_granule[group] = y_train.iloc[filtered_granule.index]\n",
    "      if len(filtered_granule) == 1:\n",
    "        row = filtered_granule[['bytes_in', 'bytes_out', 'num_pkts_out', 'num_pkts_in', 'proto']]\n",
    "      else:\n",
    "        row = filtered_granule[['bytes_in', 'bytes_out', 'num_pkts_out', 'num_pkts_in', 'proto']].sum()\n",
    "                \n",
    "      row['time_start'] = filtered_granule['time_start'].iloc[0]\n",
    "      \n",
    "      # Vectorized mode calculation\n",
    "      row['label'] = most_frequent_value\n",
    "\n",
    "      df_gran = pd.DataFrame([row])\n",
    "      df_gran.to_csv(f'./LUFlow/GranulatedData/justifiable_granules_{time_slice}.csv', mode='a', index=False, header=False)\n",
    "\n",
    "      del group_data"
   ]
  },
  {
   "cell_type": "markdown",
   "id": "rMYodOgOo0nB",
   "metadata": {
    "id": "rMYodOgOo0nB"
   },
   "source": [
    "### Training of Random Forest models"
   ]
  },
  {
   "cell_type": "code",
   "execution_count": 26,
   "id": "J4Gpy_rikamQ",
   "metadata": {
    "id": "J4Gpy_rikamQ"
   },
   "outputs": [
    {
     "name": "stderr",
     "output_type": "stream",
     "text": [
      "100%|██████████| 6/6 [6:24:01<00:00, 3840.27s/it]  \n"
     ]
    }
   ],
   "source": [
    "from sklearn.model_selection import GridSearchCV\n",
    "from sklearn.ensemble import RandomForestClassifier\n",
    "from sklearn.metrics import classification_report, confusion_matrix\n",
    "from tqdm import tqdm\n",
    "\n",
    "list_reports = {}\n",
    "best_models = {}\n",
    "bcc_reports = {}\n",
    "\n",
    "mcc_reports = {}\n",
    "\n",
    "# Random Forest with GridSearchCV\n",
    "rf_params = {'n_estimators': [50, 100, 200], 'max_depth': [None, 10, 20]}\n",
    "rf_model = RandomForestClassifier(random_state=42)\n",
    "rf_grid = GridSearchCV(rf_model, rf_params, cv=10, scoring='accuracy')\n",
    "\n",
    "training_data, y_train_list, X_train_granule_df = None, None, None\n",
    "\n",
    "for time_slice in tqdm(time_slices):\n",
    "\n",
    "  training_data = pd.read_csv(f'./LUFlow/GranulatedData/justifiable_granules_{time_slice}.csv')\n",
    "  y_train_list = training_data['label']\n",
    "  X_train_granule_df = training_data.drop(columns=['label'])\n",
    "\n",
    "  list_reports[time_slice] = {}\n",
    "  best_models[time_slice] = {}\n",
    "\n",
    "  rf_grid.fit(X_train_granule_df, y_train_list)\n",
    "  rf_best_model = rf_grid.best_estimator_\n",
    "\n",
    "  rf_pred = rf_best_model.predict(X_test)\n",
    "  report = classification_report(y_test, rf_pred, output_dict=True)\n",
    "\n",
    "  tn, fp, fn, tp = confusion_matrix(y_test, rf_pred).ravel()\n",
    "\n",
    "  # Calculate MCC avoiding overflow\n",
    "  numerator = tp * tn - fp * fn\n",
    "  terms = [tp + fp, tp + fn, tn + fp, tn + fn]\n",
    "  log_denominator = sum(np.log(term) for term in terms if term > 0) \n",
    "  \n",
    "  if log_denominator > 0:\n",
    "      mcc_reports[time_slice] = numerator / np.exp(0.5 * log_denominator)\n",
    "  else:\n",
    "      mcc_reports[time_slice] = 0  # Use a fallback value for zero/invalid denominator\n",
    "\n",
    "  bcc_reports[time_slice] = (tp/(tp+fn) + tn/(tn+fp))/2\n",
    "\n",
    "  list_reports[time_slice] = pd.DataFrame(report).transpose()\n",
    "  best_models[time_slice] = rf_best_model\n",
    "\n",
    "  del training_data, y_train_list, X_train_granule_df"
   ]
  },
  {
   "cell_type": "markdown",
   "id": "92521af6",
   "metadata": {
    "id": "92521af6"
   },
   "source": [
    "# Model Performance"
   ]
  },
  {
   "cell_type": "markdown",
   "id": "d2813b50",
   "metadata": {},
   "source": [
    "The performance metrics used by the approach proposed in [8]:\n",
    "-\tAccuracy is the proportion of accurately classified datapoints in the test set in relation to the total number of instances.\n",
    "-\tPrecision is the ratio of detected positive cases to all expected positive instances.\n",
    "-\tRecall is the ratio of samples classified as positive to all expected positive instances.\n",
    "-\tF1-score is a harmonic mean of recall and precision.\n",
    "-\tMCC (Matthews Correlation Coefficient) determines the correlation coefficient between the anticipated and actual classifications.\n",
    "-\tBCC (Balanced Accuracy) is used for situations with data imbalance."
   ]
  },
  {
   "cell_type": "code",
   "execution_count": 27,
   "id": "8f874b93",
   "metadata": {},
   "outputs": [],
   "source": [
    "# Go up one directory\n",
    "os.chdir('..')\n",
    "\n",
    "# Check if 'reports' directory exists, otherwise create it\n",
    "if not os.path.exists('reports'):\n",
    "    os.mkdir('reports')\n",
    "\n",
    "# Check if 'best_models' directory exists, otherwise create it\n",
    "if not os.path.exists('best_models'):\n",
    "    os.mkdir('best_models')"
   ]
  },
  {
   "cell_type": "code",
   "execution_count": 29,
   "id": "v000UeVoJMd6",
   "metadata": {
    "id": "v000UeVoJMd6"
   },
   "outputs": [],
   "source": [
    "import time\n",
    "import joblib\n",
    "\n",
    "string = 'justifiablegranularity_'+str(subset)+'_'+time.strftime(\"%Y%m%d-%H%M%S\")\n",
    "\n",
    "os.mkdir(f'./reports/{string}')\n",
    "os.mkdir(f'./best_models/{string}')\n",
    "\n",
    "os.chdir(f'./reports/{string}')\n",
    "\n",
    "for report in list_reports:\n",
    "  list_reports[report].to_csv(f'report_{report}.csv')\n",
    "\n",
    "columns = ['time_slice', 'BCC', 'MCC']\n",
    "df = pd.DataFrame(columns=columns)\n",
    "# for bcc, mcc, time_slice in bcc_reports, mcc_reports, time_slices:\n",
    "for time_slice in time_slices:\n",
    "  row = {'time_slice': time_slice, 'BCC': bcc_reports[time_slice], 'MCC': mcc_reports[time_slice]}\n",
    "  row = pd.DataFrame([row])\n",
    "  row.to_csv('bcc_mcc.csv', mode='a', header=False, index=False)\n",
    "\n",
    "os.chdir(f'../../best_models/{string}')\n",
    "\n",
    "for model in best_models:\n",
    "  joblib.dump(best_models[model], f'model_{model}_{string}.joblib')"
   ]
  },
  {
   "cell_type": "code",
   "execution_count": 30,
   "id": "icbCgYKqIDXX",
   "metadata": {
    "id": "icbCgYKqIDXX"
   },
   "outputs": [
    {
     "data": {
      "image/png": "[encoded data removed]",
      "text/plain": [
       "<Figure size 640x480 with 1 Axes>"
      ]
     },
     "metadata": {},
     "output_type": "display_data"
    }
   ],
   "source": [
    "equidistant_x = np.arange(len(time_slices))\n",
    "feature_to_print = 'precision'\n",
    "\n",
    "plt.plot(equidistant_x, [list_reports[i].loc['accuracy'][feature_to_print] for i in time_slices])\n",
    "\n",
    "plt.title(f'{feature_to_print} over time_slices')\n",
    "plt.xticks(equidistant_x, time_slices)\n",
    "plt.xlabel('time slices')\n",
    "plt.ylabel(f'{feature_to_print}')\n",
    "plt.show()"
   ]
  },
  {
   "cell_type": "code",
   "execution_count": 31,
   "id": "-Jvtsd3wlAOL",
   "metadata": {
    "id": "-Jvtsd3wlAOL"
   },
   "outputs": [
    {
     "name": "stdout",
     "output_type": "stream",
     "text": [
      "Report 16: \n",
      "              precision    recall  f1-score        support\n",
      "0              0.915862  0.990275  0.951616   70229.000000\n",
      "1              0.984690  0.873028  0.925503   50318.000000\n",
      "accuracy       0.941334  0.941334  0.941334       0.941334\n",
      "macro avg      0.950276  0.931651  0.938559  120547.000000\n",
      "weighted avg   0.944592  0.941334  0.940716  120547.000000\n",
      "\n",
      "BCC 16: 0.9316511088354598\n",
      "\n",
      "MCC 16: 0.8817306522824462\n",
      "\n",
      "\n",
      "Report 128: \n",
      "              precision    recall  f1-score        support\n",
      "0              0.915433  0.990332  0.951410   70229.000000\n",
      "1              0.984766  0.872312  0.925134   50318.000000\n",
      "accuracy       0.941069  0.941069  0.941069       0.941069\n",
      "macro avg      0.950099  0.931322  0.938272  120547.000000\n",
      "weighted avg   0.944373  0.941069  0.940442  120547.000000\n",
      "\n",
      "BCC 128: 0.9313218622295969\n",
      "\n",
      "MCC 128: 0.8812212871522066\n",
      "\n",
      "\n",
      "Report 256: \n",
      "              precision    recall  f1-score        support\n",
      "0              0.915869  0.989890  0.951442   70229.000000\n",
      "1              0.984096  0.873087  0.925274   50318.000000\n",
      "accuracy       0.941135  0.941135  0.941135       0.941135\n",
      "macro avg      0.949982  0.931489  0.938358  120547.000000\n",
      "weighted avg   0.944347  0.941135  0.940519  120547.000000\n",
      "\n",
      "BCC 256: 0.9314886909595148\n",
      "\n",
      "MCC 256: 0.881276779251577\n",
      "\n",
      "\n",
      "Report 1024: \n",
      "              precision    recall  f1-score        support\n",
      "0              0.915202  0.990303  0.951272   70229.000000\n",
      "1              0.984716  0.871934  0.924900   50318.000000\n",
      "accuracy       0.940894  0.940894  0.940894       0.940894\n",
      "macro avg      0.949959  0.931119  0.938086  120547.000000\n",
      "weighted avg   0.944218  0.940894  0.940264  120547.000000\n",
      "\n",
      "BCC 1024: 0.9311188238607607\n",
      "\n",
      "MCC 1024: 0.880875939597748\n",
      "\n",
      "\n",
      "Report 2048: \n",
      "              precision    recall  f1-score        support\n",
      "0              0.915703  0.989776  0.951300   70229.000000\n",
      "1              0.983915  0.872829  0.925049   50318.000000\n",
      "accuracy       0.940961  0.940961  0.940961       0.940961\n",
      "macro avg      0.949809  0.931303  0.938174  120547.000000\n",
      "weighted avg   0.944175  0.940961  0.940342  120547.000000\n",
      "\n",
      "BCC 2048: 0.9313025560063691\n",
      "\n",
      "MCC 2048: 0.8809169373599416\n",
      "\n",
      "\n",
      "Report 3016: \n",
      "              precision    recall  f1-score        support\n",
      "0              0.915884  0.990403  0.951687   70229.000000\n",
      "1              0.984889  0.873047  0.925602   50318.000000\n",
      "accuracy       0.941417  0.941417  0.941417       0.941417\n",
      "macro avg      0.950387  0.931725  0.938645  120547.000000\n",
      "weighted avg   0.944688  0.941417  0.940799  120547.000000\n",
      "\n",
      "BCC 3016: 0.9317251217313207\n",
      "\n",
      "MCC 3016: 0.8819144647420605\n",
      "\n",
      "\n"
     ]
    }
   ],
   "source": [
    "for time_slice in time_slices:\n",
    "  print(f'Report {time_slice}: \\n{list_reports[time_slice]}\\n')\n",
    "  print(f'BCC {time_slice}: {bcc_reports[time_slice]}\\n')\n",
    "  print(f'MCC {time_slice}: {mcc_reports[time_slice]}')\n",
    "  print('\\n')"
   ]
  }
 ],
 "metadata": {
  "colab": {
   "provenance": []
  },
  "kaggle": {
   "accelerator": "none",
   "dataSources": [
    {
     "datasetId": 975848,
     "sourceId": 7295614,
     "sourceType": "datasetVersion"
    }
   ],
   "dockerImageVersionId": 30626,
   "isGpuEnabled": false,
   "isInternetEnabled": true,
   "language": "python",
   "sourceType": "notebook"
  },
  "kernelspec": {
   "display_name": "thesis",
   "language": "python",
   "name": "python3"
  },
  "language_info": {
   "codemirror_mode": {
    "name": "ipython",
    "version": 3
   },
   "file_extension": ".py",
   "mimetype": "text/x-python",
   "name": "python",
   "nbconvert_exporter": "python",
   "pygments_lexer": "ipython3",
   "version": "3.13.0"
  },
  "papermill": {
   "default_parameters": {},
   "duration": 459.535705,
   "end_time": "2024-01-02T19:22:34.876445",
   "environment_variables": {},
   "exception": null,
   "input_path": "__notebook__.ipynb",
   "output_path": "__notebook__.ipynb",
   "parameters": {},
   "start_time": "2024-01-02T19:14:55.340740",
   "version": "2.4.0"
  }
 },
 "nbformat": 4,
 "nbformat_minor": 5
}
