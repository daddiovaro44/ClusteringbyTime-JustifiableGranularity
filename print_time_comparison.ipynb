{
 "cells": [
  {
   "cell_type": "code",
   "execution_count": 1,
   "metadata": {},
   "outputs": [],
   "source": [
    "import matplotlib.pyplot as plt\n",
    "import numpy as np\n",
    "import pandas as pd"
   ]
  },
  {
   "cell_type": "code",
   "execution_count": 2,
   "metadata": {},
   "outputs": [],
   "source": [
    "time_slices = [0.125, 0.25, 0.5, 1, 8, 16, 32, 64, 128]\n",
    "subset = 500\n",
    "alpha = '2'\n",
    "\n",
    "mean_file = f'./time_comparison/{subset}_{alpha}_01250250518163264128/mean_{subset}_{alpha}.csv'\n",
    "std_file = f'./time_comparison/{subset}_{alpha}_01250250518163264128/std_{subset}_{alpha}.csv'"
   ]
  },
  {
   "cell_type": "code",
   "execution_count": null,
   "metadata": {},
   "outputs": [],
   "source": [
    "x_axis = np.arange(len(time_slices))\n",
    "figure, axis = plt.subplots(2, 2, figsize=(12, 8))\n",
    "\n",
    "mean_df = pd.read_csv(mean_file)\n",
    "std_df = pd.read_csv(std_file)\n",
    "\n",
    "axis[0, 0].plot(x_axis, mean_df['time_clust'], label='Clustering')\n",
    "axis[0, 0].plot(x_axis, mean_df['time_just'], label='Justifiable Granularity')\n",
    "axis[0, 0].set_title('Mean Time Comparison')\n",
    "axis[0, 0].set_xticks(x_axis)  \n",
    "axis[0, 0].set_xticklabels(time_slices) \n",
    "axis[0, 0].set_xlabel('Time Slice')\n",
    "\n",
    "axis[0, 1].plot(x_axis, std_df['time_clust'], label='Clustering')\n",
    "axis[0, 1].plot(x_axis, std_df['time_just'], label='Justifiable Granularity')\n",
    "axis[0, 1].set_title('Standard Deviation Time Comparison')\n",
    "axis[0, 1].set_xticks(x_axis)  \n",
    "axis[0, 1].set_xticklabels(time_slices) \n",
    "axis[0, 1].set_xlabel('Time Slice')\n",
    "\n",
    "axis[1, 0].plot(x_axis, mean_df['num_frames_clust'], label='Clustering')\n",
    "axis[1, 0].plot(x_axis, mean_df['num_frames_just'], label='Justifiable Granularity')\n",
    "axis[1, 0].set_title('Mean of frames number')\n",
    "axis[1, 0].set_xticks(x_axis)  \n",
    "axis[1, 0].set_xticklabels(time_slices) \n",
    "axis[1, 0].set_xlabel('Time Slice')\n",
    "\n",
    "axis[1, 1].plot(x_axis, std_df['num_frames_clust'], label='Clustering')\n",
    "axis[1, 1].plot(x_axis, std_df['num_frames_just'], label='Justifiable Granularity')\n",
    "axis[1, 1].set_title('Standard Deviation of frames number')\n",
    "axis[1, 1].set_xticks(x_axis)  \n",
    "axis[1, 1].set_xticklabels(time_slices) \n",
    "axis[1, 1].set_xlabel('Time Slice')\n",
    "\n",
    "plt.tight_layout() # rect=[0, 0.1, 1, 1]\n",
    "# plt.legend(loc='center left', bbox_to_anchor=(1, 0.5))\n",
    "\n",
    "lines, labels = [], []\n",
    "for ax in axis.flat:\n",
    "    for line, label in zip(*ax.get_legend_handles_labels()):\n",
    "        if label not in labels:  # Avoid duplicate labels\n",
    "            lines.append(line)\n",
    "            labels.append(label)\n",
    "\n",
    "figure.legend(lines, labels, loc='lower center', ncol=2, fontsize='medium', bbox_to_anchor=(0.5, -0.05))\n",
    "\n",
    "\n",
    "plt.show()\n"
   ]
  },
  {
   "cell_type": "code",
   "execution_count": null,
   "metadata": {},
   "outputs": [],
   "source": [
    "x_axis = np.arange(len(time_slices))\n",
    "\n",
    "plt.plot(x_axis, mean_df['num_frames_clust'], label='Clustering')\n",
    "plt.plot(x_axis, mean_df['num_frames_just'], label='Justifiable Granularity')\n",
    "plt.title('Mean of frames number')\n",
    "plt.xticks(x_axis, time_slices)  \n",
    "# plt.set_xticklabels(time_slices) \n",
    "plt.xlabel('Time Slice')\n",
    "\n",
    "plt.legend()\n",
    "plt.show()"
   ]
  },
  {
   "cell_type": "code",
   "execution_count": 5,
   "metadata": {},
   "outputs": [],
   "source": [
    "# import matplotlib.pyplot as plt\n",
    "# import numpy as np\n",
    "\n",
    "# for time_slice in time_slices:\n",
    "#     df = pd.read_csv(f'./time_comparison_{subset}_{time_slice}.csv')\n",
    "#     X_axis = np.arange(len(df))\n",
    "#     plt.plot(X_axis, df['time_clust'], label='Clustering')\n",
    "#     plt.plot(X_axis, df['time_just'], label='Justifiable Granularity')\n",
    "\n",
    "#     plt.xlabel('Granule')\n",
    "#     plt.ylabel('Time (s)')\n",
    "#     plt.title(f'Time comparison for time slice {time_slice}')\n",
    "#     plt.legend()\n",
    "#     plt.show()"
   ]
  },
  {
   "cell_type": "code",
   "execution_count": null,
   "metadata": {},
   "outputs": [],
   "source": [
    "import matplotlib.pyplot as plt\n",
    "import numpy as np\n",
    "\n",
    "for time_slice in time_slices:\n",
    "    df = pd.read_csv(f'./time_comparison/{subset}_{alpha}_01250250518163264128/time_comparison_{subset}_{alpha}_{time_slice}.csv')\n",
    "    X_axis = np.arange(len(df))\n",
    "    plt.plot(X_axis, df['num_frames_clust'], label='Clustering')\n",
    "    plt.plot(X_axis, df['num_frames_just'], label='Justifiable Granularity')\n",
    "\n",
    "    plt.xlabel('Granule')\n",
    "    plt.ylabel('Number of frames')\n",
    "    plt.title(f'Number of frames comparison for time slice {time_slice}')\n",
    "    plt.legend()\n",
    "    plt.show()"
   ]
  }
 ],
 "metadata": {
  "kernelspec": {
   "display_name": "thesis",
   "language": "python",
   "name": "python3"
  },
  "language_info": {
   "codemirror_mode": {
    "name": "ipython",
    "version": 3
   },
   "file_extension": ".py",
   "mimetype": "text/x-python",
   "name": "python",
   "nbconvert_exporter": "python",
   "pygments_lexer": "ipython3",
   "version": "3.13.0"
  }
 },
 "nbformat": 4,
 "nbformat_minor": 2
}
