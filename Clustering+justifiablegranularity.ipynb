{
 "cells": [
  {
   "cell_type": "markdown",
   "id": "2caa1f00",
   "metadata": {
    "id": "2caa1f00"
   },
   "source": [
    "# Importing Libraries"
   ]
  },
  {
   "cell_type": "code",
   "execution_count": 1,
   "id": "36751954",
   "metadata": {
    "id": "36751954"
   },
   "outputs": [],
   "source": [
    "import os\n",
    "import pandas as pd\n",
    "import numpy as np\n",
    "import gc"
   ]
  },
  {
   "cell_type": "markdown",
   "id": "zQCuH_8Qx_FK",
   "metadata": {
    "id": "zQCuH_8Qx_FK"
   },
   "source": [
    "# Connection to drive"
   ]
  },
  {
   "cell_type": "code",
   "execution_count": 2,
   "id": "8e541e17",
   "metadata": {
    "colab": {
     "base_uri": "https://localhost:8080/"
    },
    "executionInfo": {
     "elapsed": 7,
     "status": "ok",
     "timestamp": 1727684224260,
     "user": {
      "displayName": "DAMIANA IOVARO",
      "userId": "12500258692918933283"
     },
     "user_tz": -120
    },
    "id": "8e541e17",
    "outputId": "ee9a8e89-2a07-4d2c-a784-9437f929191d"
   },
   "outputs": [
    {
     "name": "stdout",
     "output_type": "stream",
     "text": [
      "Not running on Google Colab. \n"
     ]
    }
   ],
   "source": [
    "try:\n",
    "    from google.colab import drive\n",
    "    IN_COLAB = True\n",
    "    print(\"Running on Google Colab. \")\n",
    "except:\n",
    "    IN_COLAB = False\n",
    "    print(\"Not running on Google Colab. \")"
   ]
  },
  {
   "cell_type": "code",
   "execution_count": 3,
   "id": "YqDnszP3yBxG",
   "metadata": {
    "colab": {
     "base_uri": "https://localhost:8080/"
    },
    "executionInfo": {
     "elapsed": 24352,
     "status": "ok",
     "timestamp": 1727684248607,
     "user": {
      "displayName": "DAMIANA IOVARO",
      "userId": "12500258692918933283"
     },
     "user_tz": -120
    },
    "id": "YqDnszP3yBxG",
    "outputId": "d6dadbf6-66a4-4a8c-f156-1e4675382495"
   },
   "outputs": [],
   "source": [
    "if IN_COLAB:\n",
    "    from google.colab import drive\n",
    "    drive.mount('/content/gdrive')"
   ]
  },
  {
   "cell_type": "code",
   "execution_count": 4,
   "id": "vKxzLLMyXlXw",
   "metadata": {
    "id": "vKxzLLMyXlXw"
   },
   "outputs": [],
   "source": [
    "if IN_COLAB:\n",
    "    os.chdir('/content/gdrive/MyDrive/Tesi/dataset')\n",
    "else:\n",
    "    os.chdir('./dataset')"
   ]
  },
  {
   "cell_type": "code",
   "execution_count": 5,
   "id": "142404ab",
   "metadata": {},
   "outputs": [
    {
     "name": "stdout",
     "output_type": "stream",
     "text": [
      "\u001b[0m\u001b[01;34mLUFlow\u001b[0m/\n"
     ]
    }
   ],
   "source": [
    "ls"
   ]
  },
  {
   "cell_type": "markdown",
   "id": "0f55febe",
   "metadata": {
    "id": "0f55febe"
   },
   "source": [
    "# Downloading, Reading and Merging Data"
   ]
  },
  {
   "cell_type": "code",
   "execution_count": 6,
   "id": "bf6ace32",
   "metadata": {},
   "outputs": [],
   "source": [
    "def move_directories(orig_path, dest_path):\n",
    "    # Check if the destination folder exists, otherwise create it\n",
    "    if not os.path.exists(dest_path):\n",
    "        os.makedirs(dest_path)\n",
    "    \n",
    "    # Iter over all files and folders in the source directory\n",
    "    for item in os.listdir(orig_path):\n",
    "        orig_item_path = os.path.join(orig_path, item)\n",
    "        \n",
    "        # Check if it is a folder\n",
    "        if os.path.isdir(orig_item_path):\n",
    "            # Defines the destination path for the folder\n",
    "            dest_item_path = os.path.join(dest_path, item)\n",
    "            \n",
    "            # Move the folder by renaming it\n",
    "            os.rename(orig_item_path, dest_item_path)\n",
    "            print(f\"Moved directory: {orig_item_path} -> {dest_item_path}\")"
   ]
  },
  {
   "cell_type": "code",
   "execution_count": 7,
   "id": "7f185a12",
   "metadata": {},
   "outputs": [
    {
     "name": "stdout",
     "output_type": "stream",
     "text": [
      "Non-empty subdirectories: ['2021', '2020', '2022']\n",
      "Skip downloading.\n"
     ]
    },
    {
     "name": "stderr",
     "output_type": "stream",
     "text": [
      "/home/ubdeskiovaro/anaconda3/envs/thesis/lib/python3.13/site-packages/tqdm/auto.py:21: TqdmWarning: IProgress not found. Please update jupyter and ipywidgets. See https://ipywidgets.readthedocs.io/en/stable/user_install.html\n",
      "  from .autonotebook import tqdm as notebook_tqdm\n"
     ]
    }
   ],
   "source": [
    "import kagglehub\n",
    "\n",
    "# Check if some subdirectories are not empty\n",
    "path_to_check = \"./LUFlow/\"\n",
    "subdirs = [d for d in os.listdir(path_to_check) if os.path.isdir(os.path.join(path_to_check, d))]\n",
    "non_empty_subdirs = [d for d in subdirs if os.listdir(os.path.join(path_to_check, d))]\n",
    "\n",
    "dest_path = './LUFlow'\n",
    "\n",
    "if non_empty_subdirs:\n",
    "    print(\"Non-empty subdirectories:\", non_empty_subdirs)\n",
    "    print(\"Skip downloading.\")\n",
    "else:\n",
    "    print(\"All subdirectories are empty.\")\n",
    "    print(\"Download dataset.\")\n",
    "\n",
    "    # Download latest version\n",
    "    path = kagglehub.dataset_download(\"mryanm/luflow-network-intrusion-detection-data-set\")\n",
    "\n",
    "    print(\"Path to dataset files:\", path)\n",
    "\n",
    "    move_directories(path, dest_path)"
   ]
  },
  {
   "cell_type": "code",
   "execution_count": 8,
   "id": "b6def2a9",
   "metadata": {},
   "outputs": [
    {
     "name": "stdout",
     "output_type": "stream",
     "text": [
      "Encoded dataset is in the directory.\n"
     ]
    }
   ],
   "source": [
    "encoded_dataset = './LUFlow/encoded_dataset.csv'\n",
    "\n",
    "if os.path.isfile(encoded_dataset):\n",
    "    print(\"Encoded dataset is in the directory.\")\n",
    "    ENCODED = True\n",
    "else:\n",
    "    print(\"Encoded dataset is not in the directory.\")\n",
    "    ENCODED = False"
   ]
  },
  {
   "cell_type": "code",
   "execution_count": 9,
   "id": "2dd63090",
   "metadata": {
    "id": "2dd63090"
   },
   "outputs": [],
   "source": [
    "if not ENCODED:\n",
    "\n",
    "    df_list = []\n",
    "    i = 0\n",
    "\n",
    "    selected_columns = ['bytes_in', 'bytes_out', 'num_pkts_out', 'num_pkts_in', 'proto', 'time_start', 'label']\n",
    "    dtype_dict = {'bytes_in': np.int32, 'bytes_out': np.int32, 'num_pkts_out': np.int32, \n",
    "                  'num_pkts_in': np.int32, 'proto': np.int32, 'time_start': np.int64, 'label': str}\n",
    "\n",
    "    for root, dirs, files in os.walk(dest_path):\n",
    "        for file in files:\n",
    "            # checks if 'file' does not exist in the directory\n",
    "            # checks if 'csv' is in the file name\n",
    "            # checks if a particular string is in the file name\n",
    "            if not os.path.isfile(file) and 'csv' in file:\n",
    "                chunk_iter = pd.read_csv(os.path.join(root, file), chunksize=10000, usecols=selected_columns, dtype=dtype_dict)\n",
    "                for chunk in chunk_iter:\n",
    "                    df_list.append(chunk)\n",
    "                \n",
    "                del chunk_iter\n",
    "                gc.collect()\n",
    "                i += 1\n",
    "\n",
    "    df = pd.concat(df_list, ignore_index=True)\n",
    "\n",
    "    del df_list\n",
    "    gc.collect()"
   ]
  },
  {
   "cell_type": "code",
   "execution_count": 10,
   "id": "4aaaad63",
   "metadata": {},
   "outputs": [
    {
     "name": "stdout",
     "output_type": "stream",
     "text": [
      "Sorted dataset is in the directory.\n"
     ]
    }
   ],
   "source": [
    "sorted_dataset = './LUFlow/sorted_encoded_dataset.csv'\n",
    "\n",
    "if os.path.isfile(sorted_dataset) and ENCODED:\n",
    "    print(\"Sorted dataset is in the directory.\")\n",
    "    # dataset_encoded_sorted = pd.read_csv(sorted_dataset)\n",
    "else:\n",
    "    print(\"Sorting dataset.\")\n",
    "\n",
    "    dataset_encoded = pd.read_csv(encoded_dataset)\n",
    "    dataset_encoded_sorted = dataset_encoded.sort_values(by=['time_start'])\n",
    "\n",
    "    dataset_encoded_sorted.to_csv(sorted_dataset, index=False)"
   ]
  },
  {
   "cell_type": "code",
   "execution_count": 11,
   "id": "5f82214a",
   "metadata": {},
   "outputs": [],
   "source": [
    "QUART = True\n",
    "\n",
    "if ENCODED and QUART:\n",
    "    import pandas as pd\n",
    "\n",
    "    # Count number of lines in the file\n",
    "    with open(sorted_dataset) as f:\n",
    "        total_rows = sum(1 for _ in f) - 1  # exclude header\n",
    "\n",
    "    # Compute the fraction\n",
    "    n_quarter_rows = total_rows // 8\n",
    "\n",
    "    # Load only first quarter of the dataset\n",
    "    df = pd.read_csv(sorted_dataset, nrows=n_quarter_rows)"
   ]
  },
  {
   "cell_type": "markdown",
   "id": "81d202a8",
   "metadata": {
    "id": "81d202a8"
   },
   "source": [
    "# Exploratory Data Analysis"
   ]
  },
  {
   "cell_type": "code",
   "execution_count": 12,
   "id": "1424708b",
   "metadata": {
    "id": "1424708b"
   },
   "outputs": [],
   "source": [
    "import matplotlib.pyplot as plt\n",
    "\n",
    "if not ENCODED:\n",
    "    # Count the occurrences of each label\n",
    "    label_counts = df['label'].value_counts()\n",
    "\n",
    "    plt.figure(figsize=(8, 8))\n",
    "    plt.pie(label_counts, labels=label_counts.index, autopct=lambda p: '{:.0f}\\n({:.1f}%)'.format(p * sum(label_counts) / 100, p))\n",
    "\n",
    "    # Show the plot\n",
    "    plt.title('Distribution of Labels')\n",
    "    plt.show()"
   ]
  },
  {
   "cell_type": "markdown",
   "id": "e6118ed4",
   "metadata": {
    "id": "e6118ed4"
   },
   "source": [
    "# Data Preprocessing"
   ]
  },
  {
   "cell_type": "code",
   "execution_count": 13,
   "id": "b9a8cc83",
   "metadata": {},
   "outputs": [
    {
     "name": "stdout",
     "output_type": "stream",
     "text": [
      "bytes_in        0\n",
      "bytes_out       0\n",
      "num_pkts_out    0\n",
      "num_pkts_in     0\n",
      "proto           0\n",
      "time_start      0\n",
      "label           0\n",
      "dtype: int64\n"
     ]
    }
   ],
   "source": [
    "df.dropna(axis=1, inplace = True)\n",
    "\n",
    "missing_values = df.isnull().sum()\n",
    "print(missing_values)"
   ]
  },
  {
   "cell_type": "code",
   "execution_count": 14,
   "id": "d04422fa",
   "metadata": {
    "id": "d04422fa"
   },
   "outputs": [],
   "source": [
    "if not ENCODED:\n",
    "    df = df[df['label'].isin(['benign', 'malicious'])].copy()\n",
    "\n",
    "    df = df.reset_index(drop=True)"
   ]
  },
  {
   "cell_type": "code",
   "execution_count": 15,
   "id": "78134a11",
   "metadata": {
    "id": "78134a11"
   },
   "outputs": [],
   "source": [
    "from sklearn.preprocessing import LabelEncoder\n",
    "\n",
    "if not ENCODED:\n",
    "    label_encoder = LabelEncoder()\n",
    "\n",
    "    # Fit and transform the label column\n",
    "    df['label'] = label_encoder.fit_transform(df['label'])"
   ]
  },
  {
   "cell_type": "code",
   "execution_count": 16,
   "id": "02357a06",
   "metadata": {},
   "outputs": [],
   "source": [
    "if not ENCODED:\n",
    "    df.to_csv(encoded_dataset, index=False)"
   ]
  },
  {
   "cell_type": "code",
   "execution_count": 17,
   "id": "e945052c",
   "metadata": {
    "id": "e945052c"
   },
   "outputs": [
    {
     "data": {
      "image/png": "[encoded data removed]",
      "text/plain": [
       "<Figure size 800x800 with 1 Axes>"
      ]
     },
     "metadata": {},
     "output_type": "display_data"
    }
   ],
   "source": [
    "# Count the occurrences of each label\n",
    "label_counts = df['label'].value_counts()\n",
    "\n",
    "plt.figure(figsize=(8, 8))\n",
    "plt.pie(label_counts, labels=label_counts.index, autopct=lambda p: '{:.0f}\\n({:.1f}%)'.format(p * sum(label_counts) / 100, p))\n",
    "\n",
    "# Show the plot\n",
    "plt.title('Distribution of Labels')\n",
    "plt.show()"
   ]
  },
  {
   "cell_type": "code",
   "execution_count": 18,
   "id": "_tt-YtWchGYq",
   "metadata": {
    "id": "_tt-YtWchGYq"
   },
   "outputs": [
    {
     "data": {
      "text/plain": [
       "Index(['bytes_in', 'bytes_out', 'num_pkts_out', 'num_pkts_in', 'proto',\n",
       "       'time_start', 'label'],\n",
       "      dtype='object')"
      ]
     },
     "execution_count": 18,
     "metadata": {},
     "output_type": "execute_result"
    }
   ],
   "source": [
    "df.columns"
   ]
  },
  {
   "cell_type": "markdown",
   "id": "k90MxbIk_G_J",
   "metadata": {
    "id": "k90MxbIk_G_J"
   },
   "source": [
    "## Construction of Interval Information Granules\n",
    "\n",
    "### Selecting index using time windows"
   ]
  },
  {
   "cell_type": "code",
   "execution_count": 19,
   "id": "c9cf40cf",
   "metadata": {},
   "outputs": [],
   "source": [
    "perc = 0.8\n",
    "\n",
    "rows_perc = int(len(df)*perc)\n",
    "\n",
    "df_test = df.iloc[rows_perc:]\n",
    "df_train = df.iloc[:rows_perc]"
   ]
  },
  {
   "cell_type": "code",
   "execution_count": 20,
   "id": "vyXIigQju030",
   "metadata": {
    "id": "vyXIigQju030"
   },
   "outputs": [
    {
     "name": "stderr",
     "output_type": "stream",
     "text": [
      "100%|██████████| 6/6 [03:19<00:00, 33.19s/it]\n"
     ]
    }
   ],
   "source": [
    "from tqdm import tqdm\n",
    "\n",
    "time_slices = [16, 128, 256, 1024, 2048, 3016]\n",
    "\n",
    "matching_indices_slices = {}\n",
    "\n",
    "time_start_values = df['time_start'].values\n",
    "n = time_start_values\n",
    "\n",
    "for ts in tqdm(time_slices):\n",
    "  # maximum time limit of the granule\n",
    "  limit = time_start_values[0] + ts\n",
    "\n",
    "  # number of groups for time_slice\n",
    "  num_group = 0\n",
    "  group_dict = {num_group:[0]}\n",
    "\n",
    "  for i in range(1, len(n)):\n",
    "      # if the value of time_start is greater than limit then limit is updated and\n",
    "      # it is initilized a new group otherwise the index of the row is added to group_dict\n",
    "      if time_start_values[i] >= limit:\n",
    "        limit = time_start_values[i] + ts\n",
    "        num_group += 1\n",
    "\n",
    "        group_dict[num_group] = [i]\n",
    "      else:\n",
    "        group_dict[num_group].append(i)\n",
    "  \n",
    "  matching_indices_slices[ts] = group_dict\n",
    "  del group_dict\n",
    "  gc.collect()"
   ]
  },
  {
   "cell_type": "markdown",
   "id": "zZMBBfdMA4NV",
   "metadata": {
    "id": "zZMBBfdMA4NV"
   },
   "source": [
    "### Drop Label column"
   ]
  },
  {
   "cell_type": "code",
   "execution_count": 21,
   "id": "d96cee97",
   "metadata": {
    "id": "d96cee97"
   },
   "outputs": [
    {
     "data": {
      "text/plain": [
       "0"
      ]
     },
     "execution_count": 21,
     "metadata": {},
     "output_type": "execute_result"
    }
   ],
   "source": [
    "# Separate features (X) and target variable (y)\n",
    "X_train = df.loc[:, df.columns != 'label']\n",
    "y_train = df['label']\n",
    "\n",
    "del df\n",
    "gc.collect()"
   ]
  },
  {
   "cell_type": "code",
   "execution_count": 22,
   "id": "0ae98571",
   "metadata": {},
   "outputs": [
    {
     "data": {
      "text/plain": [
       "0"
      ]
     },
     "execution_count": 22,
     "metadata": {},
     "output_type": "execute_result"
    }
   ],
   "source": [
    "# Separate features (X) and target variable (y)\n",
    "X_test = df_test.loc[:, df_test.columns != 'label']\n",
    "y_test = df_test['label']\n",
    "\n",
    "\n",
    "del df_test\n",
    "gc.collect()"
   ]
  },
  {
   "cell_type": "code",
   "execution_count": 23,
   "id": "911c3e12",
   "metadata": {
    "id": "911c3e12"
   },
   "outputs": [
    {
     "data": {
      "text/html": [
       "<div>\n",
       "<style scoped>\n",
       "    .dataframe tbody tr th:only-of-type {\n",
       "        vertical-align: middle;\n",
       "    }\n",
       "\n",
       "    .dataframe tbody tr th {\n",
       "        vertical-align: top;\n",
       "    }\n",
       "\n",
       "    .dataframe thead th {\n",
       "        text-align: right;\n",
       "    }\n",
       "</style>\n",
       "<table border=\"1\" class=\"dataframe\">\n",
       "  <thead>\n",
       "    <tr style=\"text-align: right;\">\n",
       "      <th></th>\n",
       "      <th>bytes_in</th>\n",
       "      <th>bytes_out</th>\n",
       "      <th>num_pkts_out</th>\n",
       "      <th>num_pkts_in</th>\n",
       "      <th>proto</th>\n",
       "      <th>time_start</th>\n",
       "    </tr>\n",
       "  </thead>\n",
       "  <tbody>\n",
       "    <tr>\n",
       "      <th>0</th>\n",
       "      <td>0</td>\n",
       "      <td>7430</td>\n",
       "      <td>6</td>\n",
       "      <td>0</td>\n",
       "      <td>6</td>\n",
       "      <td>15925366400</td>\n",
       "    </tr>\n",
       "    <tr>\n",
       "      <th>1</th>\n",
       "      <td>0</td>\n",
       "      <td>10136</td>\n",
       "      <td>7</td>\n",
       "      <td>0</td>\n",
       "      <td>6</td>\n",
       "      <td>15925373126</td>\n",
       "    </tr>\n",
       "    <tr>\n",
       "      <th>2</th>\n",
       "      <td>0</td>\n",
       "      <td>2985</td>\n",
       "      <td>3</td>\n",
       "      <td>2</td>\n",
       "      <td>6</td>\n",
       "      <td>15925397203</td>\n",
       "    </tr>\n",
       "    <tr>\n",
       "      <th>3</th>\n",
       "      <td>0</td>\n",
       "      <td>5792</td>\n",
       "      <td>4</td>\n",
       "      <td>2</td>\n",
       "      <td>6</td>\n",
       "      <td>15925398899</td>\n",
       "    </tr>\n",
       "    <tr>\n",
       "      <th>4</th>\n",
       "      <td>0</td>\n",
       "      <td>3548</td>\n",
       "      <td>3</td>\n",
       "      <td>0</td>\n",
       "      <td>6</td>\n",
       "      <td>15925416267</td>\n",
       "    </tr>\n",
       "    <tr>\n",
       "      <th>...</th>\n",
       "      <td>...</td>\n",
       "      <td>...</td>\n",
       "      <td>...</td>\n",
       "      <td>...</td>\n",
       "      <td>...</td>\n",
       "      <td>...</td>\n",
       "    </tr>\n",
       "    <tr>\n",
       "      <th>22602560</th>\n",
       "      <td>0</td>\n",
       "      <td>7240</td>\n",
       "      <td>5</td>\n",
       "      <td>5</td>\n",
       "      <td>6</td>\n",
       "      <td>1592801271843816</td>\n",
       "    </tr>\n",
       "    <tr>\n",
       "      <th>22602561</th>\n",
       "      <td>7240</td>\n",
       "      <td>0</td>\n",
       "      <td>5</td>\n",
       "      <td>5</td>\n",
       "      <td>6</td>\n",
       "      <td>1592801271843913</td>\n",
       "    </tr>\n",
       "    <tr>\n",
       "      <th>22602562</th>\n",
       "      <td>0</td>\n",
       "      <td>10136</td>\n",
       "      <td>7</td>\n",
       "      <td>3</td>\n",
       "      <td>6</td>\n",
       "      <td>1592801271844032</td>\n",
       "    </tr>\n",
       "    <tr>\n",
       "      <th>22602563</th>\n",
       "      <td>0</td>\n",
       "      <td>11584</td>\n",
       "      <td>8</td>\n",
       "      <td>1</td>\n",
       "      <td>6</td>\n",
       "      <td>1592801271844083</td>\n",
       "    </tr>\n",
       "    <tr>\n",
       "      <th>22602564</th>\n",
       "      <td>0</td>\n",
       "      <td>1448</td>\n",
       "      <td>1</td>\n",
       "      <td>0</td>\n",
       "      <td>6</td>\n",
       "      <td>1592801271844127</td>\n",
       "    </tr>\n",
       "  </tbody>\n",
       "</table>\n",
       "<p>22602565 rows × 6 columns</p>\n",
       "</div>"
      ],
      "text/plain": [
       "          bytes_in  bytes_out  num_pkts_out  num_pkts_in  proto  \\\n",
       "0                0       7430             6            0      6   \n",
       "1                0      10136             7            0      6   \n",
       "2                0       2985             3            2      6   \n",
       "3                0       5792             4            2      6   \n",
       "4                0       3548             3            0      6   \n",
       "...            ...        ...           ...          ...    ...   \n",
       "22602560         0       7240             5            5      6   \n",
       "22602561      7240          0             5            5      6   \n",
       "22602562         0      10136             7            3      6   \n",
       "22602563         0      11584             8            1      6   \n",
       "22602564         0       1448             1            0      6   \n",
       "\n",
       "                time_start  \n",
       "0              15925366400  \n",
       "1              15925373126  \n",
       "2              15925397203  \n",
       "3              15925398899  \n",
       "4              15925416267  \n",
       "...                    ...  \n",
       "22602560  1592801271843816  \n",
       "22602561  1592801271843913  \n",
       "22602562  1592801271844032  \n",
       "22602563  1592801271844083  \n",
       "22602564  1592801271844127  \n",
       "\n",
       "[22602565 rows x 6 columns]"
      ]
     },
     "execution_count": 23,
     "metadata": {},
     "output_type": "execute_result"
    }
   ],
   "source": [
    "X_train"
   ]
  },
  {
   "cell_type": "code",
   "execution_count": 24,
   "id": "1de93880",
   "metadata": {
    "id": "1de93880"
   },
   "outputs": [
    {
     "data": {
      "text/plain": [
       "0           0\n",
       "1           0\n",
       "2           0\n",
       "3           0\n",
       "4           0\n",
       "           ..\n",
       "22602560    0\n",
       "22602561    0\n",
       "22602562    0\n",
       "22602563    0\n",
       "22602564    0\n",
       "Name: label, Length: 22602565, dtype: int64"
      ]
     },
     "execution_count": 24,
     "metadata": {},
     "output_type": "execute_result"
    }
   ],
   "source": [
    "y_train"
   ]
  },
  {
   "cell_type": "markdown",
   "id": "t8o0K9k6npXH",
   "metadata": {
    "id": "t8o0K9k6npXH"
   },
   "source": [
    "### Creating interval information granules\n",
    "\n",
    "with justifiable granularity principle\n"
   ]
  },
  {
   "cell_type": "markdown",
   "id": "cbc1eca3",
   "metadata": {},
   "source": [
    "implementing both 'a' and 'b' to define the frames to include in the granule"
   ]
  },
  {
   "cell_type": "code",
   "execution_count": null,
   "id": "_dvzK55YBC1D",
   "metadata": {
    "id": "_dvzK55YBC1D"
   },
   "outputs": [
    {
     "name": "stderr",
     "output_type": "stream",
     "text": [
      " 82%|████████▏ | 17403158/21120447 [7:44:56<28:22, 2183.34it/s]   "
     ]
    }
   ],
   "source": [
    "# import math\n",
    "\n",
    "# # pd_ab_changes = pd.DataFrame(columns=['time_slice', 'group', 'a', 'b', 'V_a_opt', 'V_b_opt'])\n",
    "# # pd_ab_changes.to_csv('../ab_changes.csv', index=False)\n",
    "\n",
    "\n",
    "# X_train_granule = {}\n",
    "# y_train_granule = {}\n",
    "\n",
    "# alpha = 2.0\n",
    "# l = 100\n",
    "\n",
    "# for time_slice in time_slices:\n",
    "#   X_train_granule[time_slice] = {}\n",
    "#   y_train_granule[time_slice] = {}\n",
    "\n",
    "\n",
    "#   for group in tqdm(matching_indices_slices[time_slice]):\n",
    "\n",
    "#     # obtains index for previous defined groups\n",
    "#     group_indeces = matching_indices_slices[time_slice][group]\n",
    "\n",
    "#     group_data = X_train.iloc[group_indeces]\n",
    "\n",
    "#     N = len(group_data)\n",
    "\n",
    "#     # if the slice has only one element, the granule is the element itself\n",
    "#     if N == 1:\n",
    "#       X_train_granule[time_slice][group] = group_data\n",
    "#       y_train_granule[time_slice][group] = y_train.iloc[X_train_granule[time_slice][group].index]\n",
    "#       continue\n",
    "    \n",
    "#     y_min = group_data['time_start'].min()\n",
    "#     y_max = group_data['time_start'].max()\n",
    "\n",
    "#     diff = y_max - y_min\n",
    "#     y_max_rel = y_max - y_min\n",
    "\n",
    "#     m = group_data['time_start'].mean()\n",
    "#     m_rel = m - y_min\n",
    "\n",
    "#     # delta_y = (y_max - m)/l\n",
    "#     delta_y = (y_max_rel - m_rel)/l\n",
    "\n",
    "#     V_b_opt = float('-inf')\n",
    "#     V_a_opt = float('-inf')\n",
    "\n",
    "#     for h in range(0, l):\n",
    "#       b_rel = m_rel+h*delta_y\n",
    "#       a_rel = m_rel-h*delta_y\n",
    "\n",
    "#       b = y_min + b_rel\n",
    "#       condition_b = (group_data['time_start'] > m) & (group_data['time_start'] <= b)\n",
    "#       cov_b = len(condition_b)/N\n",
    "#       sp_b = math.exp(-alpha*abs(m_rel-b_rel))\n",
    "\n",
    "#       a = y_min + a_rel\n",
    "#       condition_a = (group_data['time_start'] > a) & (group_data['time_start'] <= m)\n",
    "#       cov_a = len(condition_a)/N\n",
    "#       sp_a = math.exp(-alpha*abs(a_rel-m_rel))\n",
    "\n",
    "#       V_b = cov_b*sp_b\n",
    "#       V_a = cov_a*sp_a\n",
    "\n",
    "#       if V_a > V_a_opt:\n",
    "#         a_opt = a\n",
    "#         V_a_opt = V_a\n",
    "\n",
    "#       if V_b > V_b_opt:\n",
    "#         b_opt = b\n",
    "#         V_b_opt = V_b\n",
    "\n",
    "#       # print(f\"a: {a}, b: {b}, V_a: {V_a}, V_b: {V_b}, V_a_opt: {V_a_opt}, V_b_opt: {V_b_opt}\")\n",
    "#       # print(f\"cov_a: {cov_a}, sp_a: {sp_a}, V_a_opt: {V_a_opt}, a: {a}, a_opt: {a_opt}\")\n",
    "#       # row = {'time_slice': time_slice, 'group': group, 'a': a, 'b': b, 'V_a_opt': V_a_opt, 'V_b_opt': V_b_opt}\n",
    "#       # row = pd.DataFrame([row])\n",
    "#       # row.to_csv('../ab_changes.csv', mode='a', header=False, index=False)\n",
    "\n",
    "#     condition = (group_data['time_start'] > a_opt) & (group_data['time_start'] <= b_opt)\n",
    "#     filtered_granule = group_data[condition]\n",
    "\n",
    "#     # Make sure the granule is not empty\n",
    "#     if filtered_granule.empty:\n",
    "#       continue  # Skip this group if no data fits the condition\n",
    "\n",
    "#     X_train_granule[time_slice][group] = filtered_granule\n",
    "\n",
    "#     # Extract the selected rows\n",
    "#     selected_rows = y_train.iloc[filtered_granule.index]\n",
    "\n",
    "#     # Find the most frequent value (mode)\n",
    "#     most_frequent_value = selected_rows.mode().iloc[0]\n",
    "\n",
    "#     # Assign the modal value to all selected rows\n",
    "#     y_train.iloc[filtered_granule.index] = most_frequent_value\n",
    "#     y_train_granule[time_slice][group] = y_train.iloc[filtered_granule.index]\n",
    "\n",
    "#     del group_data\n",
    "#     gc.collect()"
   ]
  },
  {
   "cell_type": "code",
   "execution_count": null,
   "id": "91dce496",
   "metadata": {},
   "outputs": [],
   "source": [
    "# print(f\"y_max: {y_max}\\n y_min: {y_min}\\n diff: {diff}\\n y_max_rel: {y_max_rel}\\n m: {m}\\n m_rel: {m_rel}\\n delta_y: {delta_y}\")"
   ]
  },
  {
   "cell_type": "code",
   "execution_count": null,
   "id": "181054cb",
   "metadata": {},
   "outputs": [],
   "source": [
    "from concurrent.futures import ProcessPoolExecutor\n",
    "import numpy as np\n",
    "\n",
    "alpha = 2.0\n",
    "l = 100\n",
    "delta_y_factor = 1 / l\n",
    "\n",
    "# Pre-alloca memoria per risultati\n",
    "X_train_granule = {time_slice: {} for time_slice in time_slices}\n",
    "y_train_granule = {time_slice: {} for time_slice in time_slices}\n",
    "\n",
    "def process_group(group):\n",
    "    group_indeces = matching_indices_slices[time_slice][group]\n",
    "    group_data = X_train.iloc[group_indeces]\n",
    "    N = len(group_data)\n",
    "\n",
    "    if N == 1:\n",
    "        return group, group_data, y_train.iloc[group_data.index]\n",
    "\n",
    "    stats = group_data['time_start'].agg(['min', 'max', 'mean'])\n",
    "    y_min, y_max, m = stats['min'], stats['max'], stats['mean']\n",
    "\n",
    "    delta_y = (y_max - m) * delta_y_factor\n",
    "    m_rel = m - y_min\n",
    "\n",
    "    V_b_opt, V_a_opt = float('-inf'), float('-inf')\n",
    "    a_opt, b_opt = None, None\n",
    "\n",
    "    for h in range(0, l):\n",
    "        b_rel = m_rel + h * delta_y\n",
    "        a_rel = m_rel - h * delta_y\n",
    "        b, a = y_min + b_rel, y_min + a_rel\n",
    "\n",
    "        cov_b = ((group_data['time_start'] > m) & (group_data['time_start'] <= b)).sum() / N\n",
    "        cov_a = ((group_data['time_start'] > a) & (group_data['time_start'] <= m)).sum() / N\n",
    "\n",
    "        sp_b = np.exp(-alpha * abs(m_rel - b_rel))\n",
    "        sp_a = np.exp(-alpha * abs(a_rel - m_rel))\n",
    "\n",
    "        V_b = cov_b * sp_b\n",
    "        V_a = cov_a * sp_a\n",
    "\n",
    "        if V_a > V_a_opt:\n",
    "            a_opt, V_a_opt = a, V_a\n",
    "\n",
    "        if V_b > V_b_opt:\n",
    "            b_opt, V_b_opt = b, V_b\n",
    "\n",
    "    condition = (group_data['time_start'] > a_opt) & (group_data['time_start'] <= b_opt)\n",
    "    filtered_granule = group_data[condition]\n",
    "\n",
    "    if filtered_granule.empty:\n",
    "        return group, None, None\n",
    "\n",
    "    selected_rows = y_train.iloc[filtered_granule.index]\n",
    "    most_frequent_value = selected_rows.mode().iloc[0]\n",
    "    y_train.iloc[filtered_granule.index] = most_frequent_value\n",
    "\n",
    "    return group, filtered_granule, y_train.iloc[filtered_granule.index]\n",
    "\n",
    "# Parallelizza il ciclo sui gruppi\n",
    "for time_slice in time_slices:\n",
    "    with ProcessPoolExecutor() as executor:\n",
    "        results = list(executor.map(process_group, matching_indices_slices[time_slice]))\n",
    "\n",
    "    for group, granule, y_granule in results:\n",
    "        if granule is not None:\n",
    "            X_train_granule[time_slice][group] = granule\n",
    "            y_train_granule[time_slice][group] = y_granule\n",
    "\n",
    "    gc.collect()\n"
   ]
  },
  {
   "cell_type": "markdown",
   "id": "rMYodOgOo0nB",
   "metadata": {
    "id": "rMYodOgOo0nB"
   },
   "source": [
    "### Training of Random Forest models"
   ]
  },
  {
   "cell_type": "code",
   "execution_count": null,
   "id": "J4Gpy_rikamQ",
   "metadata": {
    "id": "J4Gpy_rikamQ"
   },
   "outputs": [],
   "source": [
    "from sklearn.model_selection import GridSearchCV\n",
    "from sklearn.ensemble import RandomForestClassifier\n",
    "from sklearn.metrics import classification_report, confusion_matrix\n",
    "from tqdm import tqdm\n",
    "\n",
    "list_reports = {}\n",
    "best_models = {}\n",
    "bcc_reports = {}\n",
    "\n",
    "mcc_reports = {}\n",
    "\n",
    "# Random Forest with GridSearchCV\n",
    "rf_params = {'n_estimators': [50, 100, 200], 'max_depth': [None, 10, 20]}\n",
    "rf_model = RandomForestClassifier(random_state=42)\n",
    "rf_grid = GridSearchCV(rf_model, rf_params, cv=10, scoring='accuracy')\n",
    "\n",
    "\n",
    "for time_slice in tqdm(time_slices):\n",
    "  y_train_list = pd.concat(y_train_granule[time_slice].values(), ignore_index=True)\n",
    "  X_train_granule_df = pd.concat(X_train_granule[time_slice].values(), ignore_index=True)\n",
    "\n",
    "  list_reports[time_slice] = {}\n",
    "  best_models[time_slice] = {}\n",
    "\n",
    "  rf_grid.fit(X_train_granule_df, y_train_list)\n",
    "  rf_best_model = rf_grid.best_estimator_\n",
    "\n",
    "  rf_pred = rf_best_model.predict(X_test)\n",
    "  report = classification_report(y_test, rf_pred, output_dict=True)\n",
    "\n",
    "  tn, fp, fn, tp = confusion_matrix(y_test, rf_pred).ravel()\n",
    "\n",
    "  # Calculate MCC avoiding overflow\n",
    "  numerator = tp * tn - fp * fn\n",
    "  terms = [tp + fp, tp + fn, tn + fp, tn + fn]\n",
    "  log_denominator = sum(np.log(term) for term in terms if term > 0) \n",
    "  \n",
    "  if log_denominator > 0:\n",
    "      mcc_reports[time_slice] = numerator / np.exp(0.5 * log_denominator)\n",
    "  else:\n",
    "      mcc_reports[time_slice] = 0  # Use a fallback value for zero/invalid denominator\n",
    "\n",
    "  bcc_reports[time_slice] = (tp/(tp+fn) + tn/(tn+fp))/2\n",
    "\n",
    "  list_reports[time_slice] = pd.DataFrame(report).transpose()\n",
    "  best_models[time_slice] = rf_best_model"
   ]
  },
  {
   "cell_type": "markdown",
   "id": "92521af6",
   "metadata": {
    "id": "92521af6"
   },
   "source": [
    "# Model Performance"
   ]
  },
  {
   "cell_type": "markdown",
   "id": "d2813b50",
   "metadata": {},
   "source": [
    "The performance metrics used by the approach proposed in [8]:\n",
    "-\tAccuracy is the proportion of accurately classified datapoints in the test set in relation to the total number of instances.\n",
    "-\tPrecision is the ratio of detected positive cases to all expected positive instances.\n",
    "-\tRecall is the ratio of samples classified as positive to all expected positive instances.\n",
    "-\tF1-score is a harmonic mean of recall and precision.\n",
    "-\tMCC (Matthews Correlation Coefficient) determines the correlation coefficient between the anticipated and actual classifications.\n",
    "-\tBCC (Balanced Accuracy) is used for situations with data imbalance."
   ]
  },
  {
   "cell_type": "code",
   "execution_count": 24,
   "id": "8f874b93",
   "metadata": {},
   "outputs": [],
   "source": [
    "# Go up one directory\n",
    "os.chdir('..')\n",
    "\n",
    "# Check if 'reports' directory exists, otherwise create it\n",
    "if not os.path.exists('reports'):\n",
    "    os.mkdir('reports')\n",
    "\n",
    "# Check if 'best_models' directory exists, otherwise create it\n",
    "if not os.path.exists('best_models'):\n",
    "    os.mkdir('best_models')"
   ]
  },
  {
   "cell_type": "code",
   "execution_count": 25,
   "id": "v000UeVoJMd6",
   "metadata": {
    "id": "v000UeVoJMd6"
   },
   "outputs": [],
   "source": [
    "import time\n",
    "import joblib\n",
    "\n",
    "subset = 'all'\n",
    "string = 'justifiablegranularity_'+subset+'_'+time.strftime(\"%Y%m%d-%H%M%S\")\n",
    "\n",
    "os.mkdir(f'./reports/{string}')\n",
    "os.mkdir(f'./best_models/{string}')\n",
    "\n",
    "os.chdir(f'./reports/{string}')\n",
    "\n",
    "for report in list_reports:\n",
    "  list_reports[report].to_csv(f'report_{report}.csv')\n",
    "\n",
    "# for bcc in bcc_reports:\n",
    "#   with open(f'bcc_{bcc}.txt', 'w') as f:\n",
    "#     f.write(str(bcc_reports[bcc]))\n",
    "\n",
    "# for mcc in mcc_reports:\n",
    "#   with open(f'mcc_{mcc}.txt', 'w') as f:\n",
    "#     f.write(str(mcc_reports[mcc]))\n",
    "\n",
    "columns = ['time_slice', 'BCC', 'MCC']\n",
    "df = pd.DataFrame(columns=columns)\n",
    "for bcc, mcc, time_slice in bcc_reports, mcc_reports, time_slices:\n",
    "  row = {'time_slice': time_slice, 'BCC': bcc_reports[bcc], 'MCC': mcc_reports[mcc]}\n",
    "  row = pd.DataFrame([row])\n",
    "  row.to_csv('bcc_mcc.csv', mode='a', header=False, index=False)\n",
    "\n",
    "\n",
    "os.chdir(f'../../best_models/{string}')\n",
    "\n",
    "for model in best_models:\n",
    "  joblib.dump(best_models[model], f'model_{model}_{string}.joblib')"
   ]
  },
  {
   "cell_type": "code",
   "execution_count": null,
   "id": "icbCgYKqIDXX",
   "metadata": {
    "id": "icbCgYKqIDXX"
   },
   "outputs": [],
   "source": [
    "equidistant_x = np.arange(len(time_slices))\n",
    "feature_to_print = 'precision'\n",
    "\n",
    "plt.plot(equidistant_x, [list_reports[i].loc['accuracy'][feature_to_print] for i in time_slices])\n",
    "\n",
    "plt.title(f'{feature_to_print} over time_slices')\n",
    "plt.xticks(equidistant_x, time_slices)\n",
    "plt.xlabel('time slices')\n",
    "plt.ylabel(f'{feature_to_print}')\n",
    "plt.show()"
   ]
  },
  {
   "cell_type": "code",
   "execution_count": null,
   "id": "-Jvtsd3wlAOL",
   "metadata": {
    "id": "-Jvtsd3wlAOL"
   },
   "outputs": [],
   "source": [
    "for time_slice in time_slices:\n",
    "  print(f'Report {time_slice}: \\n{list_reports[time_slice]}\\n')\n",
    "  print(f'BCC {time_slice}: {bcc_reports[time_slice]}\\n')\n",
    "  print(f'MCC {time_slice}: {mcc_reports[time_slice]}')\n",
    "  print('\\n')"
   ]
  }
 ],
 "metadata": {
  "colab": {
   "provenance": []
  },
  "kaggle": {
   "accelerator": "none",
   "dataSources": [
    {
     "datasetId": 975848,
     "sourceId": 7295614,
     "sourceType": "datasetVersion"
    }
   ],
   "dockerImageVersionId": 30626,
   "isGpuEnabled": false,
   "isInternetEnabled": true,
   "language": "python",
   "sourceType": "notebook"
  },
  "kernelspec": {
   "display_name": "tesi",
   "language": "python",
   "name": "python3"
  },
  "language_info": {
   "codemirror_mode": {
    "name": "ipython",
    "version": 3
   },
   "file_extension": ".py",
   "mimetype": "text/x-python",
   "name": "python",
   "nbconvert_exporter": "python",
   "pygments_lexer": "ipython3",
   "version": "3.12.5"
  },
  "papermill": {
   "default_parameters": {},
   "duration": 459.535705,
   "end_time": "2024-01-02T19:22:34.876445",
   "environment_variables": {},
   "exception": null,
   "input_path": "__notebook__.ipynb",
   "output_path": "__notebook__.ipynb",
   "parameters": {},
   "start_time": "2024-01-02T19:14:55.340740",
   "version": "2.4.0"
  }
 },
 "nbformat": 4,
 "nbformat_minor": 5
}
