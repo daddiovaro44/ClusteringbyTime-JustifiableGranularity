{
 "cells": [
  {
   "cell_type": "markdown",
   "id": "2caa1f00",
   "metadata": {
    "id": "2caa1f00"
   },
   "source": [
    "# Importing Libraries"
   ]
  },
  {
   "cell_type": "code",
   "execution_count": null,
   "id": "36751954",
   "metadata": {
    "id": "36751954"
   },
   "outputs": [],
   "source": [
    "import os\n",
    "import pandas as pd\n",
    "import numpy as np\n",
    "import gc"
   ]
  },
  {
   "cell_type": "markdown",
   "id": "zQCuH_8Qx_FK",
   "metadata": {
    "id": "zQCuH_8Qx_FK"
   },
   "source": [
    "# Connection to drive"
   ]
  },
  {
   "cell_type": "code",
   "execution_count": 2,
   "id": "8e541e17",
   "metadata": {
    "colab": {
     "base_uri": "https://localhost:8080/"
    },
    "executionInfo": {
     "elapsed": 7,
     "status": "ok",
     "timestamp": 1727684224260,
     "user": {
      "displayName": "DAMIANA IOVARO",
      "userId": "12500258692918933283"
     },
     "user_tz": -120
    },
    "id": "8e541e17",
    "outputId": "ee9a8e89-2a07-4d2c-a784-9437f929191d"
   },
   "outputs": [
    {
     "name": "stdout",
     "output_type": "stream",
     "text": [
      "Not running on Google Colab. \n"
     ]
    }
   ],
   "source": [
    "try:\n",
    "    from google.colab import drive\n",
    "    IN_COLAB = True\n",
    "    print(\"Running on Google Colab. \")\n",
    "except:\n",
    "    IN_COLAB = False\n",
    "    print(\"Not running on Google Colab. \")"
   ]
  },
  {
   "cell_type": "code",
   "execution_count": 3,
   "id": "YqDnszP3yBxG",
   "metadata": {
    "colab": {
     "base_uri": "https://localhost:8080/"
    },
    "executionInfo": {
     "elapsed": 24352,
     "status": "ok",
     "timestamp": 1727684248607,
     "user": {
      "displayName": "DAMIANA IOVARO",
      "userId": "12500258692918933283"
     },
     "user_tz": -120
    },
    "id": "YqDnszP3yBxG",
    "outputId": "d6dadbf6-66a4-4a8c-f156-1e4675382495"
   },
   "outputs": [],
   "source": [
    "if IN_COLAB:\n",
    "    from google.colab import drive\n",
    "    drive.mount('/content/gdrive')"
   ]
  },
  {
   "cell_type": "code",
   "execution_count": 4,
   "id": "vKxzLLMyXlXw",
   "metadata": {
    "id": "vKxzLLMyXlXw"
   },
   "outputs": [],
   "source": [
    "if IN_COLAB:\n",
    "    os.chdir('/content/gdrive/MyDrive/Tesi/dataset')\n",
    "else:\n",
    "    os.chdir('./dataset')"
   ]
  },
  {
   "cell_type": "markdown",
   "id": "0f55febe",
   "metadata": {
    "id": "0f55febe"
   },
   "source": [
    "# Downloading, Reading and Merging Data"
   ]
  },
  {
   "cell_type": "code",
   "execution_count": 5,
   "id": "bf6ace32",
   "metadata": {},
   "outputs": [],
   "source": [
    "def move_directories(orig_path, dest_path):\n",
    "    # Check if the destination folder exists, otherwise create it\n",
    "    if not os.path.exists(dest_path):\n",
    "        os.makedirs(dest_path)\n",
    "    \n",
    "    # Iter over all files and folders in the source directory\n",
    "    for item in os.listdir(orig_path):\n",
    "        orig_item_path = os.path.join(orig_path, item)\n",
    "        \n",
    "        # Check if it is a folder\n",
    "        if os.path.isdir(orig_item_path):\n",
    "            # Defines the destination path for the folder\n",
    "            dest_item_path = os.path.join(dest_path, item)\n",
    "            \n",
    "            # Move the folder by renaming it\n",
    "            os.rename(orig_item_path, dest_item_path)\n",
    "            print(f\"Moved directory: {orig_item_path} -> {dest_item_path}\")"
   ]
  },
  {
   "cell_type": "code",
   "execution_count": 6,
   "id": "7f185a12",
   "metadata": {},
   "outputs": [
    {
     "name": "stdout",
     "output_type": "stream",
     "text": [
      "Non-empty subdirectories: ['GranuleData', '2021', '2020', '2022']\n",
      "Skip downloading.\n"
     ]
    },
    {
     "name": "stderr",
     "output_type": "stream",
     "text": [
      "/home/ubdeskiovaro/anaconda3/envs/thesis/lib/python3.13/site-packages/tqdm/auto.py:21: TqdmWarning: IProgress not found. Please update jupyter and ipywidgets. See https://ipywidgets.readthedocs.io/en/stable/user_install.html\n",
      "  from .autonotebook import tqdm as notebook_tqdm\n"
     ]
    }
   ],
   "source": [
    "import kagglehub\n",
    "\n",
    "# Check if some subdirectories are not empty\n",
    "path_to_check = \"./LUFlow/\"\n",
    "subdirs = [d for d in os.listdir(path_to_check) if os.path.isdir(os.path.join(path_to_check, d))]\n",
    "non_empty_subdirs = [d for d in subdirs if os.listdir(os.path.join(path_to_check, d))]\n",
    "\n",
    "dest_path = './LUFlow'\n",
    "\n",
    "if non_empty_subdirs:\n",
    "    print(\"Non-empty subdirectories:\", non_empty_subdirs)\n",
    "    print(\"Skip downloading.\")\n",
    "else:\n",
    "    print(\"All subdirectories are empty.\")\n",
    "    print(\"Download dataset.\")\n",
    "\n",
    "    # Download latest version\n",
    "    path = kagglehub.dataset_download(\"mryanm/luflow-network-intrusion-detection-data-set\")\n",
    "\n",
    "    print(\"Path to dataset files:\", path)\n",
    "\n",
    "    move_directories(path, dest_path)"
   ]
  },
  {
   "cell_type": "code",
   "execution_count": 7,
   "id": "b6def2a9",
   "metadata": {},
   "outputs": [
    {
     "name": "stdout",
     "output_type": "stream",
     "text": [
      "Encoded dataset is in the directory.\n"
     ]
    }
   ],
   "source": [
    "encoded_dataset = './LUFlow/encoded_dataset.csv'\n",
    "\n",
    "if os.path.isfile(encoded_dataset):\n",
    "    print(\"Encoded dataset is in the directory.\")\n",
    "    ENCODED = True\n",
    "else:\n",
    "    print(\"Encoded dataset is not in the directory.\")\n",
    "    ENCODED = False"
   ]
  },
  {
   "cell_type": "code",
   "execution_count": null,
   "id": "2dd63090",
   "metadata": {
    "id": "2dd63090"
   },
   "outputs": [],
   "source": [
    "if not ENCODED:\n",
    "\n",
    "    df_list = []\n",
    "    i = 0\n",
    "\n",
    "    selected_columns = ['bytes_in', 'bytes_out', 'num_pkts_out', 'num_pkts_in', 'proto', 'time_start', 'label']\n",
    "    dtype_dict = {'bytes_in': np.int32, 'bytes_out': np.int32, 'num_pkts_out': np.int32, \n",
    "                  'num_pkts_in': np.int32, 'proto': np.int32, 'time_start': np.int64, 'label': str}\n",
    "\n",
    "    for root, dirs, files in os.walk(dest_path):\n",
    "        for file in files:\n",
    "            # checks if 'file' does not exist in the directory\n",
    "            # checks if 'csv' is in the file name\n",
    "            # checks if a particular string is in the file name\n",
    "            if not os.path.isfile(file) and 'csv' in file:\n",
    "                chunk_iter = pd.read_csv(os.path.join(root, file), chunksize=10000, usecols=selected_columns, dtype=dtype_dict)\n",
    "                for chunk in chunk_iter:\n",
    "                    df_list.append(chunk)\n",
    "                \n",
    "                del chunk_iter\n",
    "                gc.collect()\n",
    "                i += 1\n",
    "\n",
    "    df = pd.concat(df_list, ignore_index=True)\n",
    "\n",
    "    del df_list\n",
    "    gc.collect()"
   ]
  },
  {
   "cell_type": "code",
   "execution_count": null,
   "id": "5f82214a",
   "metadata": {},
   "outputs": [],
   "source": [
    "QUART = True\n",
    "\n",
    "if ENCODED and QUART:\n",
    "    import pandas as pd\n",
    "\n",
    "    # Count number of lines in the file\n",
    "    with open(encoded_dataset) as f:\n",
    "        total_rows = sum(1 for _ in f) - 1  # exclude header\n",
    "\n",
    "    # Compute the fraction\n",
    "    n_quarter_rows = total_rows // 4\n",
    "\n",
    "    # Load only first quarter of the dataset\n",
    "    df = pd.read_csv(encoded_dataset, skiprows=lambda x: x > 0 and x % 4 != 0)"
   ]
  },
  {
   "cell_type": "markdown",
   "id": "81d202a8",
   "metadata": {
    "id": "81d202a8"
   },
   "source": [
    "# Exploratory Data Analysis"
   ]
  },
  {
   "cell_type": "code",
   "execution_count": null,
   "id": "1424708b",
   "metadata": {
    "id": "1424708b"
   },
   "outputs": [],
   "source": [
    "import matplotlib.pyplot as plt\n",
    "\n",
    "if not ENCODED:\n",
    "    # Count the occurrences of each label\n",
    "    label_counts = df['label'].value_counts()\n",
    "\n",
    "    plt.figure(figsize=(8, 8))\n",
    "    plt.pie(label_counts, labels=label_counts.index, autopct=lambda p: '{:.0f}\\n({:.1f}%)'.format(p * sum(label_counts) / 100, p))\n",
    "\n",
    "    # Show the plot\n",
    "    plt.title('Distribution of Labels')\n",
    "    plt.show()"
   ]
  },
  {
   "cell_type": "markdown",
   "id": "e6118ed4",
   "metadata": {
    "id": "e6118ed4"
   },
   "source": [
    "# Data Preprocessing"
   ]
  },
  {
   "cell_type": "code",
   "execution_count": 11,
   "id": "b9a8cc83",
   "metadata": {},
   "outputs": [
    {
     "name": "stdout",
     "output_type": "stream",
     "text": [
      "bytes_in        0\n",
      "bytes_out       0\n",
      "num_pkts_out    0\n",
      "num_pkts_in     0\n",
      "proto           0\n",
      "time_start      0\n",
      "label           0\n",
      "dtype: int64\n"
     ]
    }
   ],
   "source": [
    "df.dropna(axis=1, inplace = True)\n",
    "\n",
    "missing_values = df.isnull().sum()\n",
    "print(missing_values)"
   ]
  },
  {
   "cell_type": "code",
   "execution_count": null,
   "id": "d04422fa",
   "metadata": {
    "id": "d04422fa"
   },
   "outputs": [],
   "source": [
    "if not ENCODED:\n",
    "    df = df[df['label'].isin(['benign', 'malicious'])].copy()\n",
    "\n",
    "    df = df.reset_index(drop=True)"
   ]
  },
  {
   "cell_type": "code",
   "execution_count": 13,
   "id": "78134a11",
   "metadata": {
    "id": "78134a11"
   },
   "outputs": [],
   "source": [
    "from sklearn.preprocessing import LabelEncoder\n",
    "\n",
    "if not ENCODED:\n",
    "    label_encoder = LabelEncoder()\n",
    "\n",
    "    # Fit and transform the label column\n",
    "    df['label'] = label_encoder.fit_transform(df['label'])"
   ]
  },
  {
   "cell_type": "code",
   "execution_count": 14,
   "id": "e945052c",
   "metadata": {
    "id": "e945052c"
   },
   "outputs": [
    {
     "data": {
      "image/png": "[encoded data removed]",
      "text/plain": [
       "<Figure size 800x800 with 1 Axes>"
      ]
     },
     "metadata": {},
     "output_type": "display_data"
    }
   ],
   "source": [
    "# Count the occurrences of each label\n",
    "label_counts = df['label'].value_counts()\n",
    "\n",
    "plt.figure(figsize=(8, 8))\n",
    "plt.pie(label_counts, labels=label_counts.index, autopct=lambda p: '{:.0f}\\n({:.1f}%)'.format(p * sum(label_counts) / 100, p))\n",
    "\n",
    "# Show the plot\n",
    "plt.title('Distribution of Labels')\n",
    "plt.show()"
   ]
  },
  {
   "cell_type": "code",
   "execution_count": 15,
   "id": "_tt-YtWchGYq",
   "metadata": {
    "id": "_tt-YtWchGYq"
   },
   "outputs": [
    {
     "data": {
      "text/plain": [
       "Index(['bytes_in', 'bytes_out', 'num_pkts_out', 'num_pkts_in', 'proto',\n",
       "       'time_start', 'label'],\n",
       "      dtype='object')"
      ]
     },
     "execution_count": 15,
     "metadata": {},
     "output_type": "execute_result"
    }
   ],
   "source": [
    "df.columns"
   ]
  },
  {
   "cell_type": "markdown",
   "id": "k90MxbIk_G_J",
   "metadata": {
    "id": "k90MxbIk_G_J"
   },
   "source": [
    "## Construction of Interval Information Granules\n",
    "\n",
    "### Selecting index using time windows"
   ]
  },
  {
   "cell_type": "code",
   "execution_count": 16,
   "id": "c9cf40cf",
   "metadata": {},
   "outputs": [],
   "source": [
    "perc = 0.8\n",
    "\n",
    "rows_perc = int(len(df)*perc)\n",
    "\n",
    "df_test = df.iloc[rows_perc:]\n",
    "df_train = df.iloc[:rows_perc]"
   ]
  },
  {
   "cell_type": "code",
   "execution_count": null,
   "id": "vyXIigQju030",
   "metadata": {
    "id": "vyXIigQju030"
   },
   "outputs": [
    {
     "name": "stderr",
     "output_type": "stream",
     "text": [
      "100%|██████████| 6/6 [01:28<00:00, 14.74s/it]\n"
     ]
    }
   ],
   "source": [
    "from tqdm import tqdm\n",
    "\n",
    "time_slices = [16, 128, 256, 1024, 2048, 3016]\n",
    "\n",
    "matching_indices_slices = {}\n",
    "\n",
    "time_start_values = df['time_start'].values\n",
    "n = time_start_values\n",
    "\n",
    "for ts in tqdm(time_slices):\n",
    "  # maximum time limit of the granule\n",
    "  limit = time_start_values[0] + ts\n",
    "\n",
    "  # number of groups for time_slice\n",
    "  num_group = 0\n",
    "  group_dict = {num_group:[0]}\n",
    "\n",
    "  for i in range(1, len(n)):\n",
    "      # if the value of time_start is greater than limit then limit is updated and\n",
    "      # it is initilized a new group otherwise the index of the row is added to group_dict\n",
    "      if time_start_values[i] >= limit:\n",
    "        limit = time_start_values[i] + ts\n",
    "        num_group += 1\n",
    "\n",
    "        group_dict[num_group] = [i]\n",
    "      else:\n",
    "        group_dict[num_group].append(i)\n",
    "  \n",
    "  matching_indices_slices[ts] = group_dict\n",
    "  del group_dict\n",
    "  gc.collect()"
   ]
  },
  {
   "cell_type": "markdown",
   "id": "zZMBBfdMA4NV",
   "metadata": {
    "id": "zZMBBfdMA4NV"
   },
   "source": [
    "### Drop Label column"
   ]
  },
  {
   "cell_type": "code",
   "execution_count": 18,
   "id": "d96cee97",
   "metadata": {
    "id": "d96cee97"
   },
   "outputs": [
    {
     "data": {
      "text/plain": [
       "0"
      ]
     },
     "execution_count": 18,
     "metadata": {},
     "output_type": "execute_result"
    }
   ],
   "source": [
    "# Separate features (X) and target variable (y)\n",
    "X_train = df.loc[:, df.columns != 'label']\n",
    "y_train = df['label']\n",
    "\n",
    "del df\n",
    "gc.collect()"
   ]
  },
  {
   "cell_type": "code",
   "execution_count": 19,
   "id": "0ae98571",
   "metadata": {},
   "outputs": [
    {
     "data": {
      "text/plain": [
       "0"
      ]
     },
     "execution_count": 19,
     "metadata": {},
     "output_type": "execute_result"
    }
   ],
   "source": [
    "# Separate features (X) and target variable (y)\n",
    "X_test = df_test.loc[:, df_test.columns != 'label']\n",
    "y_test = df_test['label']\n",
    "\n",
    "\n",
    "del df_test\n",
    "gc.collect()"
   ]
  },
  {
   "cell_type": "code",
   "execution_count": 20,
   "id": "911c3e12",
   "metadata": {
    "id": "911c3e12"
   },
   "outputs": [
    {
     "data": {
      "text/html": [
       "<div>\n",
       "<style scoped>\n",
       "    .dataframe tbody tr th:only-of-type {\n",
       "        vertical-align: middle;\n",
       "    }\n",
       "\n",
       "    .dataframe tbody tr th {\n",
       "        vertical-align: top;\n",
       "    }\n",
       "\n",
       "    .dataframe thead th {\n",
       "        text-align: right;\n",
       "    }\n",
       "</style>\n",
       "<table border=\"1\" class=\"dataframe\">\n",
       "  <thead>\n",
       "    <tr style=\"text-align: right;\">\n",
       "      <th></th>\n",
       "      <th>bytes_in</th>\n",
       "      <th>bytes_out</th>\n",
       "      <th>num_pkts_out</th>\n",
       "      <th>num_pkts_in</th>\n",
       "      <th>proto</th>\n",
       "      <th>time_start</th>\n",
       "    </tr>\n",
       "  </thead>\n",
       "  <tbody>\n",
       "    <tr>\n",
       "      <th>0</th>\n",
       "      <td>51597</td>\n",
       "      <td>43365</td>\n",
       "      <td>156</td>\n",
       "      <td>143</td>\n",
       "      <td>6</td>\n",
       "      <td>1611879504651522</td>\n",
       "    </tr>\n",
       "    <tr>\n",
       "      <th>1</th>\n",
       "      <td>1483</td>\n",
       "      <td>1668</td>\n",
       "      <td>13</td>\n",
       "      <td>15</td>\n",
       "      <td>6</td>\n",
       "      <td>1611879524044328</td>\n",
       "    </tr>\n",
       "    <tr>\n",
       "      <th>2</th>\n",
       "      <td>42729</td>\n",
       "      <td>63064</td>\n",
       "      <td>193</td>\n",
       "      <td>9</td>\n",
       "      <td>6</td>\n",
       "      <td>1611879596021985</td>\n",
       "    </tr>\n",
       "    <tr>\n",
       "      <th>3</th>\n",
       "      <td>56711</td>\n",
       "      <td>9976</td>\n",
       "      <td>172</td>\n",
       "      <td>252</td>\n",
       "      <td>6</td>\n",
       "      <td>1611879504663863</td>\n",
       "    </tr>\n",
       "    <tr>\n",
       "      <th>4</th>\n",
       "      <td>51896</td>\n",
       "      <td>61078</td>\n",
       "      <td>160</td>\n",
       "      <td>81</td>\n",
       "      <td>6</td>\n",
       "      <td>1611879502752938</td>\n",
       "    </tr>\n",
       "    <tr>\n",
       "      <th>...</th>\n",
       "      <td>...</td>\n",
       "      <td>...</td>\n",
       "      <td>...</td>\n",
       "      <td>...</td>\n",
       "      <td>...</td>\n",
       "      <td>...</td>\n",
       "    </tr>\n",
       "    <tr>\n",
       "      <th>45205126</th>\n",
       "      <td>3370</td>\n",
       "      <td>20692</td>\n",
       "      <td>28</td>\n",
       "      <td>14</td>\n",
       "      <td>6</td>\n",
       "      <td>1655250680045971</td>\n",
       "    </tr>\n",
       "    <tr>\n",
       "      <th>45205127</th>\n",
       "      <td>8000</td>\n",
       "      <td>39671</td>\n",
       "      <td>61</td>\n",
       "      <td>37</td>\n",
       "      <td>6</td>\n",
       "      <td>1655251074988432</td>\n",
       "    </tr>\n",
       "    <tr>\n",
       "      <th>45205128</th>\n",
       "      <td>1079</td>\n",
       "      <td>18005</td>\n",
       "      <td>17</td>\n",
       "      <td>5</td>\n",
       "      <td>6</td>\n",
       "      <td>1655251126007508</td>\n",
       "    </tr>\n",
       "    <tr>\n",
       "      <th>45205129</th>\n",
       "      <td>6461</td>\n",
       "      <td>9290</td>\n",
       "      <td>77</td>\n",
       "      <td>31</td>\n",
       "      <td>6</td>\n",
       "      <td>1655251137009786</td>\n",
       "    </tr>\n",
       "    <tr>\n",
       "      <th>45205130</th>\n",
       "      <td>3984</td>\n",
       "      <td>21084</td>\n",
       "      <td>31</td>\n",
       "      <td>18</td>\n",
       "      <td>6</td>\n",
       "      <td>1655251158201494</td>\n",
       "    </tr>\n",
       "  </tbody>\n",
       "</table>\n",
       "<p>45205131 rows × 6 columns</p>\n",
       "</div>"
      ],
      "text/plain": [
       "          bytes_in  bytes_out  num_pkts_out  num_pkts_in  proto  \\\n",
       "0            51597      43365           156          143      6   \n",
       "1             1483       1668            13           15      6   \n",
       "2            42729      63064           193            9      6   \n",
       "3            56711       9976           172          252      6   \n",
       "4            51896      61078           160           81      6   \n",
       "...            ...        ...           ...          ...    ...   \n",
       "45205126      3370      20692            28           14      6   \n",
       "45205127      8000      39671            61           37      6   \n",
       "45205128      1079      18005            17            5      6   \n",
       "45205129      6461       9290            77           31      6   \n",
       "45205130      3984      21084            31           18      6   \n",
       "\n",
       "                time_start  \n",
       "0         1611879504651522  \n",
       "1         1611879524044328  \n",
       "2         1611879596021985  \n",
       "3         1611879504663863  \n",
       "4         1611879502752938  \n",
       "...                    ...  \n",
       "45205126  1655250680045971  \n",
       "45205127  1655251074988432  \n",
       "45205128  1655251126007508  \n",
       "45205129  1655251137009786  \n",
       "45205130  1655251158201494  \n",
       "\n",
       "[45205131 rows x 6 columns]"
      ]
     },
     "execution_count": 20,
     "metadata": {},
     "output_type": "execute_result"
    }
   ],
   "source": [
    "X_train"
   ]
  },
  {
   "cell_type": "code",
   "execution_count": 21,
   "id": "1de93880",
   "metadata": {
    "id": "1de93880"
   },
   "outputs": [
    {
     "data": {
      "text/plain": [
       "0           0\n",
       "1           1\n",
       "2           0\n",
       "3           0\n",
       "4           0\n",
       "           ..\n",
       "45205126    0\n",
       "45205127    0\n",
       "45205128    0\n",
       "45205129    0\n",
       "45205130    0\n",
       "Name: label, Length: 45205131, dtype: int64"
      ]
     },
     "execution_count": 21,
     "metadata": {},
     "output_type": "execute_result"
    }
   ],
   "source": [
    "y_train"
   ]
  },
  {
   "cell_type": "markdown",
   "id": "t8o0K9k6npXH",
   "metadata": {
    "id": "t8o0K9k6npXH"
   },
   "source": [
    "### Creating interval information granules\n",
    "\n",
    "with justifiable granularity principle\n"
   ]
  },
  {
   "cell_type": "markdown",
   "id": "cbc1eca3",
   "metadata": {},
   "source": [
    "implementing both 'a' and 'b' to define the frames to include in the granule"
   ]
  },
  {
   "cell_type": "code",
   "execution_count": 22,
   "id": "_dvzK55YBC1D",
   "metadata": {
    "id": "_dvzK55YBC1D"
   },
   "outputs": [
    {
     "name": "stderr",
     "output_type": "stream",
     "text": [
      "100%|██████████| 6/6 [17:49<00:00, 178.18s/it]\n"
     ]
    }
   ],
   "source": [
    "import math\n",
    "\n",
    "X_train_granule = {}\n",
    "y_train_granule = {}\n",
    "\n",
    "\n",
    "alpha = 2.0\n",
    "l = 100\n",
    "\n",
    "for time_slice in tqdm(time_slices):\n",
    "  X_train_granule[time_slice] = {}\n",
    "  y_train_granule[time_slice] = {}\n",
    "\n",
    "\n",
    "  for group in matching_indices_slices[time_slice]:\n",
    "\n",
    "    # obtains index for previous defined groups\n",
    "    group_indeces = matching_indices_slices[time_slice][group]\n",
    "\n",
    "    group_data = X_train.iloc[group_indeces]\n",
    "\n",
    "    N = len(group_data)\n",
    "\n",
    "    # if the slice has only one element, the granule is the element itself\n",
    "    if N == 1:\n",
    "      X_train_granule[time_slice][group] = group_data\n",
    "      y_train_granule[time_slice][group] = y_train.iloc[X_train_granule[time_slice][group].index]\n",
    "      continue\n",
    "\n",
    "    m = group_data['time_start'].mean()\n",
    "    y_max = group_data['time_start'].max()\n",
    "\n",
    "    delta_y = (y_max - m)/l\n",
    "\n",
    "    V_b_opt = float('-inf')\n",
    "    V_a_opt = float('-inf')\n",
    "\n",
    "    for h in range(0, l):\n",
    "      b = m+h*delta_y\n",
    "      a = m-h*delta_y\n",
    "\n",
    "      condition_b = (group_data['time_start'] > m) & (group_data['time_start'] <= b)\n",
    "      cov_b = len(condition_b)/N\n",
    "      sp_b = math.exp(-alpha*abs(m-b))\n",
    "\n",
    "      condition_a = (group_data['time_start'] > a) & (group_data['time_start'] <= m)\n",
    "      cov_a = len(condition_a)/N\n",
    "      sp_a = math.exp(-alpha*abs(a-m))\n",
    "\n",
    "      V_b = cov_b*sp_b\n",
    "      V_a = cov_a*sp_a\n",
    "\n",
    "      if V_a > V_a_opt:\n",
    "        a_opt = a\n",
    "        V_a_opt = V_a\n",
    "\n",
    "      if V_b > V_b_opt:\n",
    "        b_opt = b\n",
    "        V_b_opt = V_b\n",
    "\n",
    "\n",
    "    condition = (group_data['time_start'] > a_opt) & (group_data['time_start'] <= b_opt)\n",
    "    filtered_granule = group_data[condition]\n",
    "\n",
    "    # Make sure the granule is not empty\n",
    "    if filtered_granule.empty:\n",
    "      continue  # Skip this group if no data fits the condition\n",
    "\n",
    "    X_train_granule[time_slice][group] = filtered_granule\n",
    "\n",
    "    # Extract the selected rows\n",
    "    selected_rows = y_train.iloc[filtered_granule.index]\n",
    "\n",
    "    # Find the most frequent value (mode)\n",
    "    most_frequent_value = selected_rows.mode().iloc[0]\n",
    "\n",
    "    # Assign the modal value to all selected rows\n",
    "    y_train.iloc[filtered_granule.index] = most_frequent_value\n",
    "    y_train_granule[time_slice][group] = y_train.iloc[filtered_granule.index]\n",
    "\n",
    "    del group_data\n",
    "    gc.collect()"
   ]
  },
  {
   "cell_type": "markdown",
   "id": "rMYodOgOo0nB",
   "metadata": {
    "id": "rMYodOgOo0nB"
   },
   "source": [
    "### Training of Random Forest models"
   ]
  },
  {
   "cell_type": "code",
   "execution_count": null,
   "id": "J4Gpy_rikamQ",
   "metadata": {
    "id": "J4Gpy_rikamQ"
   },
   "outputs": [
    {
     "name": "stderr",
     "output_type": "stream",
     "text": [
      "100%|██████████| 6/6 [09:31<00:00, 95.17s/it] \n"
     ]
    }
   ],
   "source": [
    "from sklearn.model_selection import GridSearchCV\n",
    "from sklearn.ensemble import RandomForestClassifier\n",
    "from sklearn.metrics import classification_report, confusion_matrix\n",
    "from tqdm import tqdm\n",
    "\n",
    "list_reports = {}\n",
    "best_models = {}\n",
    "bcc_reports = {}\n",
    "\n",
    "mcc_reports = {}\n",
    "\n",
    "# Random Forest with GridSearchCV\n",
    "rf_params = {'n_estimators': [50, 100, 200], 'max_depth': [None, 10, 20]}\n",
    "rf_model = RandomForestClassifier(random_state=42)\n",
    "rf_grid = GridSearchCV(rf_model, rf_params, cv=10, scoring='accuracy')\n",
    "\n",
    "\n",
    "for time_slice in tqdm(time_slices):\n",
    "  y_train_list = pd.concat(y_train_granule[time_slice].values(), ignore_index=True)\n",
    "  X_train_granule_df = pd.concat(X_train_granule[time_slice].values(), ignore_index=True)\n",
    "\n",
    "  list_reports[time_slice] = {}\n",
    "  best_models[time_slice] = {}\n",
    "\n",
    "  rf_grid.fit(X_train_granule_df, y_train_list)\n",
    "  rf_best_model = rf_grid.best_estimator_\n",
    "\n",
    "  rf_pred = rf_best_model.predict(X_test)\n",
    "  report = classification_report(y_test, rf_pred, output_dict=True)\n",
    "\n",
    "  tn, fp, fn, tp = confusion_matrix(y_test, rf_pred).ravel()\n",
    "\n",
    "  # Calculate MCC avoiding overflow\n",
    "  numerator = tp * tn - fp * fn\n",
    "  terms = [tp + fp, tp + fn, tn + fp, tn + fn]\n",
    "  log_denominator = sum(np.log(term) for term in terms if term > 0) \n",
    "  \n",
    "  if log_denominator > 0:\n",
    "      mcc_reports[time_slice] = numerator / np.exp(0.5 * log_denominator)\n",
    "  else:\n",
    "      mcc_reports[time_slice] = 0  # Use a fallback value for zero/invalid denominator\n",
    "\n",
    "  bcc_reports[time_slice] = (tp/(tp+fn) + tn/(tn+fp))/2\n",
    "\n",
    "  list_reports[time_slice] = pd.DataFrame(report).transpose()\n",
    "  best_models[time_slice] = rf_best_model"
   ]
  },
  {
   "cell_type": "markdown",
   "id": "92521af6",
   "metadata": {
    "id": "92521af6"
   },
   "source": [
    "# Model Performance"
   ]
  },
  {
   "cell_type": "markdown",
   "id": "d2813b50",
   "metadata": {},
   "source": [
    "The performance metrics used by the approach proposed in [8]:\n",
    "-\tAccuracy is the proportion of accurately classified datapoints in the test set in relation to the total number of instances.\n",
    "-\tPrecision is the ratio of detected positive cases to all expected positive instances.\n",
    "-\tRecall is the ratio of samples classified as positive to all expected positive instances.\n",
    "-\tF1-score is a harmonic mean of recall and precision.\n",
    "-\tMCC (Matthews Correlation Coefficient) determines the correlation coefficient between the anticipated and actual classifications.\n",
    "-\tBCC (Balanced Accuracy) is used for situations with data imbalance."
   ]
  },
  {
   "cell_type": "code",
   "execution_count": 24,
   "id": "8f874b93",
   "metadata": {},
   "outputs": [],
   "source": [
    "# Go up one directory\n",
    "os.chdir('..')\n",
    "\n",
    "# Check if 'reports' directory exists, otherwise create it\n",
    "if not os.path.exists('reports'):\n",
    "    os.mkdir('reports')\n",
    "\n",
    "# Check if 'best_models' directory exists, otherwise create it\n",
    "if not os.path.exists('best_models'):\n",
    "    os.mkdir('best_models')"
   ]
  },
  {
   "cell_type": "code",
   "execution_count": null,
   "id": "v000UeVoJMd6",
   "metadata": {
    "id": "v000UeVoJMd6"
   },
   "outputs": [],
   "source": [
    "import time\n",
    "import joblib\n",
    "\n",
    "subset = 'all'\n",
    "string = 'justifiablegranularity_'+subset+'_'+time.strftime(\"%Y%m%d-%H%M%S\")\n",
    "\n",
    "os.mkdir(f'./reports/{string}')\n",
    "os.mkdir(f'./best_models/{string}')\n",
    "\n",
    "os.chdir(f'./reports/{string}')\n",
    "\n",
    "for report in list_reports:\n",
    "  list_reports[report].to_csv(f'report_{report}.csv')\n",
    "\n",
    "for bcc in bcc_reports:\n",
    "  with open(f'bcc_{bcc}.txt', 'w') as f:\n",
    "    f.write(str(bcc_reports[bcc]))\n",
    "\n",
    "for mcc in mcc_reports:\n",
    "  with open(f'mcc_{mcc}.txt', 'w') as f:\n",
    "    f.write(str(mcc_reports[mcc]))\n",
    "\n",
    "\n",
    "os.chdir(f'../../best_models/{string}')\n",
    "\n",
    "for model in best_models:\n",
    "  joblib.dump(best_models[model], f'model_{model}_{string}.joblib')"
   ]
  },
  {
   "cell_type": "code",
   "execution_count": 26,
   "id": "icbCgYKqIDXX",
   "metadata": {
    "id": "icbCgYKqIDXX"
   },
   "outputs": [
    {
     "data": {
      "image/png": "[encoded data removed]",
      "text/plain": [
       "<Figure size 640x480 with 1 Axes>"
      ]
     },
     "metadata": {},
     "output_type": "display_data"
    }
   ],
   "source": [
    "equidistant_x = np.arange(len(time_slices))\n",
    "feature_to_print = 'precision'\n",
    "\n",
    "plt.plot(equidistant_x, [list_reports[i].loc['accuracy'][feature_to_print] for i in time_slices])\n",
    "\n",
    "plt.title(f'{feature_to_print} over time_slices')\n",
    "plt.xticks(equidistant_x, time_slices)\n",
    "plt.xlabel('time slices')\n",
    "plt.ylabel(f'{feature_to_print}')\n",
    "plt.show()"
   ]
  },
  {
   "cell_type": "code",
   "execution_count": 27,
   "id": "-Jvtsd3wlAOL",
   "metadata": {
    "id": "-Jvtsd3wlAOL"
   },
   "outputs": [
    {
     "name": "stdout",
     "output_type": "stream",
     "text": [
      "Report 16: \n",
      "              precision    recall  f1-score       support\n",
      "0              0.973356  0.806591  0.882161  5.383576e+06\n",
      "1              0.772647  0.967501  0.859165  3.657451e+06\n",
      "accuracy       0.871685  0.871685  0.871685  8.716852e-01\n",
      "macro avg      0.873002  0.887046  0.870663  9.041027e+06\n",
      "weighted avg   0.892162  0.871685  0.872858  9.041027e+06\n",
      "\n",
      "BCC 16: 0.8870457506009347\n",
      "\n",
      "MCC 16: 0.7599177536313665\n",
      "\n",
      "\n",
      "Report 128: \n",
      "              precision    recall  f1-score       support\n",
      "0              0.967124  0.802788  0.877327  5.383576e+06\n",
      "1              0.767793  0.959831  0.853139  3.657451e+06\n",
      "accuracy       0.866318  0.866318  0.866318  8.663182e-01\n",
      "macro avg      0.867459  0.881310  0.865233  9.041027e+06\n",
      "weighted avg   0.886487  0.866318  0.867542  9.041027e+06\n",
      "\n",
      "BCC 128: 0.881309549948863\n",
      "\n",
      "MCC 128: 0.7486399888896281\n",
      "\n",
      "\n",
      "Report 256: \n",
      "              precision    recall  f1-score       support\n",
      "0              0.971764  0.700565  0.814174  5.383576e+06\n",
      "1              0.687584  0.970037  0.804746  3.657451e+06\n",
      "accuracy       0.809577  0.809577  0.809577  8.095769e-01\n",
      "macro avg      0.829674  0.835301  0.809460  9.041027e+06\n",
      "weighted avg   0.856802  0.809577  0.810360  9.041027e+06\n",
      "\n",
      "BCC 256: 0.8353009862772958\n",
      "\n",
      "MCC 256: 0.6649513894036949\n",
      "\n",
      "\n",
      "Report 1024: \n",
      "              precision    recall  f1-score       support\n",
      "0              0.978183  0.770990  0.862315  5.383576e+06\n",
      "1              0.743028  0.974689  0.843237  3.657451e+06\n",
      "accuracy       0.853394  0.853394  0.853394  8.533943e-01\n",
      "macro avg      0.860606  0.872840  0.852776  9.041027e+06\n",
      "weighted avg   0.883054  0.853394  0.854597  9.041027e+06\n",
      "\n",
      "BCC 1024: 0.872839533470477\n",
      "\n",
      "MCC 1024: 0.7333431633840218\n",
      "\n",
      "\n",
      "Report 2048: \n",
      "              precision    recall  f1-score       support\n",
      "0              0.970114  0.793921  0.873218  5.383576e+06\n",
      "1              0.760650  0.963999  0.850336  3.657451e+06\n",
      "accuracy       0.862724  0.862724  0.862724  8.627242e-01\n",
      "macro avg      0.865382  0.878960  0.861777  9.041027e+06\n",
      "weighted avg   0.885377  0.862724  0.863962  9.041027e+06\n",
      "\n",
      "BCC 2048: 0.8789599377478763\n",
      "\n",
      "MCC 2048: 0.744217821748811\n",
      "\n",
      "\n",
      "Report 3016: \n",
      "              precision    recall  f1-score       support\n",
      "0              0.968216  0.805555  0.879427  5.383576e+06\n",
      "1              0.770532  0.961076  0.855320  3.657451e+06\n",
      "accuracy       0.868469  0.868469  0.868469  8.684693e-01\n",
      "macro avg      0.869374  0.883315  0.867374  9.041027e+06\n",
      "weighted avg   0.888245  0.868469  0.869675  9.041027e+06\n",
      "\n",
      "BCC 3016: 0.8833153521467869\n",
      "\n",
      "MCC 3016: 0.7525603263027516\n",
      "\n",
      "\n"
     ]
    }
   ],
   "source": [
    "for time_slice in time_slices:\n",
    "  print(f'Report {time_slice}: \\n{list_reports[time_slice]}\\n')\n",
    "  print(f'BCC {time_slice}: {bcc_reports[time_slice]}\\n')\n",
    "  print(f'MCC {time_slice}: {mcc_reports[time_slice]}')\n",
    "  print('\\n')"
   ]
  }
 ],
 "metadata": {
  "colab": {
   "provenance": []
  },
  "kaggle": {
   "accelerator": "none",
   "dataSources": [
    {
     "datasetId": 975848,
     "sourceId": 7295614,
     "sourceType": "datasetVersion"
    }
   ],
   "dockerImageVersionId": 30626,
   "isGpuEnabled": false,
   "isInternetEnabled": true,
   "language": "python",
   "sourceType": "notebook"
  },
  "kernelspec": {
   "display_name": "tesi",
   "language": "python",
   "name": "python3"
  },
  "language_info": {
   "codemirror_mode": {
    "name": "ipython",
    "version": 3
   },
   "file_extension": ".py",
   "mimetype": "text/x-python",
   "name": "python",
   "nbconvert_exporter": "python",
   "pygments_lexer": "ipython3",
   "version": "3.12.5"
  },
  "papermill": {
   "default_parameters": {},
   "duration": 459.535705,
   "end_time": "2024-01-02T19:22:34.876445",
   "environment_variables": {},
   "exception": null,
   "input_path": "__notebook__.ipynb",
   "output_path": "__notebook__.ipynb",
   "parameters": {},
   "start_time": "2024-01-02T19:14:55.340740",
   "version": "2.4.0"
  }
 },
 "nbformat": 4,
 "nbformat_minor": 5
}
